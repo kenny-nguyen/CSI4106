{
 "cells": [
  {
   "cell_type": "markdown",
   "metadata": {},
   "source": [
    "# Notebook 1 - Searching for solutions"
   ]
  },
  {
   "cell_type": "markdown",
   "metadata": {},
   "source": [
    "CSI4106 Artificial Intelligence  \n",
    "Fall 2019  \n",
    "Prepared by Caroline Barrière and Julian Templeton"
   ]
  },
  {
   "cell_type": "markdown",
   "metadata": {},
   "source": [
    "***INTRODUCTION***:   \n",
    "We will look at the implementation of a search space.  The code below is largely inspired from the resources provided with the book Artificial Intelligence, Foundations of Computational Agents (https://artint.info/2e/online.html).  The resources corresponding to Chapter 3, on Searching for Solutions, are found here https://artint.info/AIPython/.  \n",
    "\n",
    "There is even a companion Python book, with explanation of all the python code accompanying the book, as well as a first chapter called **Python for AI** where they give some basics of Python.  See https://artint.info/AIPython/aipython.pdf\n",
    "\n",
    "The code below is more specifically based on the code in the file *searchProblem.py*.  You do not need to go back to that code. Everything you need is specified in the notebook.  I have modified the original code, and I'm presenting it here in small chunks so as to allow students less familiar with python to go through slowly. "
   ]
  },
  {
   "cell_type": "markdown",
   "metadata": {},
   "source": [
    "***HOMEWORK***:  \n",
    "Go through the notebook by running each cell, one at a time. If you see an error, you can fix the issue and re-run the cells.  \n",
    "Look for **(TO DO)** for the tasks that you need to perform.  Once you're done, submit your notebook. \n",
    "\n",
    "*The notebook will be marked on 10.  \n",
    "Each **(TO DO)** has a number of points associated with it.*\n",
    "***"
   ]
  },
  {
   "cell_type": "markdown",
   "metadata": {},
   "source": [
    "**1. Definition of a directed graph.**  \n",
    "A directed graph is made of nodes and arcs. The class below defines an arc that connects two nodes. The first two parameters give the two connected nodes. The other two parameters provide optional cost of an arc (with default to 1) and an optional action of the arc (default to None). The init is the constructor. The assert states a condition that must be true and provides what to do otherwise."
   ]
  },
  {
   "cell_type": "code",
   "execution_count": 1,
   "metadata": {},
   "outputs": [],
   "source": [
    "class Arc(object):\n",
    "    \"\"\"An arc has a from_node and a to_node node and a (non-negative) cost\"\"\"\n",
    "    \n",
    "    def __init__(self, from_node, to_node, cost=1, action=None):\n",
    "        assert cost >= 0, (\"Cost cannot be negative for\"+\n",
    "                           str(from_node)+\"->\"+str(to_node)+\", cost: \"+str(cost))\n",
    "        self.from_node = from_node\n",
    "        self.to_node = to_node\n",
    "        self.action = action\n",
    "        self.cost=cost\n",
    "\n",
    "    def __repr__(self):\n",
    "        \"\"\"string representation of an arc\"\"\"\n",
    "        if self.action:\n",
    "            return str(self.from_node)+\" --\"+str(self.action)+\"--> \"+str(self.to_node)\n",
    "        else:\n",
    "            return str(self.from_node)+\" --> \"+str(self.to_node)"
   ]
  },
  {
   "attachments": {
    "Tree1.PNG": {
     "image/png": "[encoded data removed]"
    }
   },
   "cell_type": "markdown",
   "metadata": {},
   "source": [
    "Here is an example of a small DAG (Directed Acyclic Graph). ![Tree1.PNG](attachment:Tree1.PNG)"
   ]
  },
  {
   "cell_type": "code",
   "execution_count": 2,
   "metadata": {},
   "outputs": [],
   "source": [
    "# Defining a small dag\n",
    "dag1 = [Arc('a','b'), Arc('b','c1'), Arc('c1','d'), Arc('b','c2'), Arc('c2','d')]"
   ]
  },
  {
   "cell_type": "code",
   "execution_count": 3,
   "metadata": {},
   "outputs": [
    {
     "name": "stdout",
     "output_type": "stream",
     "text": [
      "[a --> b, b --> c1, c1 --> d, b --> c2, c2 --> d]\n"
     ]
    }
   ],
   "source": [
    "# print the dag\n",
    "print(dag1)"
   ]
  },
  {
   "cell_type": "markdown",
   "metadata": {},
   "source": [
    "The Node class is not defined.  So far, it is assumed that a Node will simply be a string."
   ]
  },
  {
   "cell_type": "markdown",
   "metadata": {},
   "source": [
    "**2. Search Space **  \n",
    "Instead of describing a dag as simply a set of arcs, we can more formally define a class that will represent a search problem which will contain not only the list of arcs, but the explicit list of nodes, the actual start node and the goals.  This class also contains useful methods to \"query\" the search problem for a node's neighbors, or for determining if a node is a goal or not. It also allows to include a heuristic function, which we will use later."
   ]
  },
  {
   "cell_type": "code",
   "execution_count": 4,
   "metadata": {},
   "outputs": [],
   "source": [
    "class Search_problem_from_explicit_graph():\n",
    "    \"\"\"A search problem consists of:\n",
    "    * a list or set of nodes\n",
    "    * a list or set of arcs\n",
    "    * a start node\n",
    "    * a list or set of goal nodes\n",
    "    * a dictionary that maps each node into its heuristic value.\n",
    "    \"\"\"\n",
    "\n",
    "    def __init__(self, nodes, arcs, start=None, goals=set(), hmap={}):\n",
    "        self.neighs = {}\n",
    "        self.nodes = nodes\n",
    "        for node in nodes:\n",
    "            self.neighs[node]=[]\n",
    "        self.arcs = arcs\n",
    "        for arc in arcs:\n",
    "            self.neighs[arc.from_node].append(arc)\n",
    "        self.start = start\n",
    "        self.goals = goals\n",
    "        self.hmap = hmap\n",
    "\n",
    "    def start_node(self):\n",
    "        \"\"\"returns start node\"\"\"\n",
    "        return self.start\n",
    "    \n",
    "    def is_goal(self,node):\n",
    "        \"\"\"is True if node is a goal\"\"\"\n",
    "        return node in self.goals\n",
    "\n",
    "    def neighbors(self,node):\n",
    "        \"\"\"returns the neighbors of node\"\"\"\n",
    "        return self.neighs[node]\n",
    "\n",
    "    def heuristic(self,node):\n",
    "        \"\"\"Gives the heuristic value of node n.\n",
    "        Returns 0 if not overridden in the hmap.\"\"\"\n",
    "        if node in self.hmap:\n",
    "            return self.hmap[node]\n",
    "        else:\n",
    "            return 0\n",
    "        \n",
    "    def __repr__(self):\n",
    "        \"\"\"returns a string representation of the search problem\"\"\"\n",
    "        res=\"\"\n",
    "        for arc in self.arcs:\n",
    "            res += str(arc)+\".  \"\n",
    "        return res\n",
    "\n",
    "    def neighbor_nodes(self,node):\n",
    "        \"\"\"returns an iterator over the neighbors of node\"\"\"\n",
    "        return (path.to_node for path in self.neighs[node])\n"
   ]
  },
  {
   "cell_type": "markdown",
   "metadata": {},
   "source": [
    "Below is an example of a search problem that we might want to represent. Assuming we wish to go from node 'a' to 'h' (highlighted in yellow). Under the figure is the definition.\n",
    "\n"
   ]
  },
  {
   "attachments": {
    "Tree2.PNG": {
     "image/png": "[encoded data removed]"
    }
   },
   "cell_type": "markdown",
   "metadata": {},
   "source": [
    "![Tree2.PNG](attachment:Tree2.PNG)"
   ]
  },
  {
   "cell_type": "code",
   "execution_count": 5,
   "metadata": {},
   "outputs": [],
   "source": [
    "# Defining a search space\n",
    "problemSimple = Search_problem_from_explicit_graph(\n",
    "    {'a','b','c','d','e', 'f', 'g', 'h'},\n",
    "    [Arc('a','b',1), Arc('a','c',1), Arc('b','d',1), Arc('b','e',1),\n",
    "        Arc('c','f',1), Arc('d','g',1), Arc('e','g',1), Arc('f','h',1)],\n",
    "    start = 'a',\n",
    "    goals = {'h'})"
   ]
  },
  {
   "cell_type": "code",
   "execution_count": 6,
   "metadata": {},
   "outputs": [
    {
     "name": "stdout",
     "output_type": "stream",
     "text": [
      "[a --> b, a --> c]\n"
     ]
    }
   ],
   "source": [
    "# Print some information\n",
    "print(problemSimple.neighbors('a'))"
   ]
  },
  {
   "cell_type": "markdown",
   "metadata": {},
   "source": [
    "**(TO DO) Q1 - 2 marks**  \n",
    "Print the start node. Test if node 'g' is a goal node.  Go through the list of nodes to find which one is the goal."
   ]
  },
  {
   "cell_type": "code",
   "execution_count": 7,
   "metadata": {},
   "outputs": [],
   "source": [
    "# Print the start node. \n",
    "# \n",
    "# Test if node 'g' is a goal node. \n",
    "# \n",
    "# Go through the list of nodes to find which one is the goal.\n",
    "# "
   ]
  },
  {
   "cell_type": "markdown",
   "metadata": {},
   "source": [
    "**(TO DO) Q2 - 1 mark** <br>\n",
    "Complete the definition of the problem space below, according to the following DAG.  The cost are not all equal to 1 now, but are rather given on the arcs."
   ]
  },
  {
   "attachments": {
    "Tree3.PNG": {
     "image/png": "[encoded data removed]"
    }
   },
   "cell_type": "markdown",
   "metadata": {},
   "source": [
    "![Tree3.PNG](attachment:Tree3.PNG)"
   ]
  },
  {
   "cell_type": "code",
   "execution_count": 8,
   "metadata": {},
   "outputs": [],
   "source": [
    "# problemTest = Search_problem_from_explicit_graph(\n",
    "#    {'a','b','c','d','e', 'f', 'g', 'h', 'j', 'k', 'm'},\n",
    "#    .....\n",
    "#    .....\n",
    "#    )"
   ]
  },
  {
   "cell_type": "markdown",
   "metadata": {},
   "source": [
    "**3. Definition of a solution as a path.**  \n",
    "A solution to a search problem is usually a Path, providing the set of visited nodes and arcs from source node to goal node.  Below a path is defined as either a single node (when arc=None), or a path followed by an arc.  Do not worry too much about all the implementation details in this class.  As your python skills get better, it will become more clear."
   ]
  },
  {
   "cell_type": "code",
   "execution_count": 7,
   "metadata": {},
   "outputs": [],
   "source": [
    "# class to represent a path\n",
    "class Path(object):\n",
    "    \"\"\"A path is either a node or a path followed by an arc\"\"\"\n",
    "    \n",
    "    def __init__(self,initial,arc=None):\n",
    "        \"\"\"initial is either a node (in which case arc is None) or\n",
    "        a path (in which case arc is an object of type Arc)\"\"\"\n",
    "        self.initial = initial\n",
    "        self.arc=arc\n",
    "        if arc is None:\n",
    "            self.cost=0\n",
    "        else:\n",
    "            self.cost = initial.cost+arc.cost\n",
    "\n",
    "    def end(self):\n",
    "        \"\"\"returns the node at the end of the path\"\"\"\n",
    "        if self.arc is None:\n",
    "            return self.initial\n",
    "        else:\n",
    "            return self.arc.to_node\n",
    "\n",
    "    def nodes(self):\n",
    "        \"\"\"enumerates the nodes for the path.\n",
    "        This starts at the end and enumerates nodes in the path backwards.\"\"\"\n",
    "        current = self\n",
    "        while current.arc is not None:\n",
    "            yield current.arc.to_node\n",
    "            current = current.initial\n",
    "        yield current.initial\n",
    "\n",
    "    def initial_nodes(self):\n",
    "        \"\"\"enumerates the nodes for the path before the end node.\n",
    "        This starts at the end and enumerates nodes in the path backwards.\"\"\"\n",
    "        if self.arc is not None:\n",
    "            for nd in self.initial.nodes(): yield nd     # could be \"yield from\"\n",
    "        \n",
    "    def __repr__(self):\n",
    "        \"\"\"returns a string representation of a path\"\"\"\n",
    "        if self.arc is None:\n",
    "            return str(self.initial)\n",
    "        elif self.arc.action:\n",
    "            return (str(self.initial)+\"\\n   --\"+str(self.arc.action)\n",
    "                    +\"--> \"+str(self.arc.to_node))\n",
    "        else:\n",
    "            return str(self.initial)+\" --> \"+str(self.arc.to_node)"
   ]
  },
  {
   "cell_type": "markdown",
   "metadata": {},
   "source": [
    "**4.  Definition of a generic searcher**  \n",
    "We first define a class representing a generic searcher, but with no strategy as to which node will be explored next. "
   ]
  },
  {
   "cell_type": "code",
   "execution_count": 8,
   "metadata": {},
   "outputs": [],
   "source": [
    "# (CB) Modified from book\n",
    "class GenericSearcher():\n",
    "    \"\"\"returns a searcher for a problem.\n",
    "    Paths can be found by repeatedly calling search().\n",
    "    This does depth-first search unless overridden\n",
    "    \"\"\"\n",
    "    def __init__(self, problem):\n",
    "        \"\"\"creates a searcher from a problem\n",
    "        \"\"\"\n",
    "        self.problem = problem\n",
    "        self.initialize_frontier()\n",
    "\n",
    "    def initialize_frontier(self):\n",
    "        self.frontier = [Path(self.problem.start_node())]\n",
    "        \n",
    "    def empty_frontier(self):\n",
    "        return self.frontier == []\n",
    "       \n",
    "    ### change the add_to_frontier method --- THIS METHOD NEEDS TO BE IMPLEMENTED FOR DIFFERENT SEARCH STRATEGIES\n",
    "    def add_to_frontier(self,path):\n",
    "        raise NotImplementedError\n",
    "        \n",
    "    def search(self):\n",
    "        \"\"\"returns (next) path from the problem's start node\n",
    "        to a goal node. \n",
    "        Returns None if no path exists.\n",
    "        \"\"\"\n",
    "        while not self.empty_frontier():\n",
    "            # HERE -- The next node explored is selected\n",
    "            # It is implemented with a Pop, which actually removes from the end of the list\n",
    "            path = self.frontier.pop()            \n",
    "            print(path)\n",
    "            if self.problem.is_goal(path.end()):    # solution found\n",
    "                self.solution = path                # store the solution found\n",
    "                return path\n",
    "            else:\n",
    "                neighs = self.problem.neighbors(path.end())              \n",
    "                for arc in neighs:\n",
    "                    self.add_to_frontier(Path(path,arc))              "
   ]
  },
  {
   "cell_type": "markdown",
   "metadata": {},
   "source": [
    "**5. Let's implement the three blind searchers.**  \n",
    "As we saw in class, the behavior of a searcher depends on how the frontier is dealt with.  We refine the generic searcher into three specific searchers.  The three blind searchers we implement are depth-first, breadth-first and lowest-cost.  The breadth-first is implemented below.  You are asked to implement the other two."
   ]
  },
  {
   "cell_type": "code",
   "execution_count": 9,
   "metadata": {},
   "outputs": [],
   "source": [
    "# (CB) extend the generic searcher to be a Breadth-first searcher.\n",
    "class BreadthFirstSearcher(GenericSearcher):\n",
    "    \n",
    "    def __init__(self, problem):   \n",
    "        super().__init__(problem)\n",
    "\n",
    "    def add_to_frontier(self,path):\n",
    "        # breadth\n",
    "        self.frontier.insert(0,path)        # HERE, I insert in position 0, knowing that I want a FIFO"
   ]
  },
  {
   "cell_type": "code",
   "execution_count": 10,
   "metadata": {},
   "outputs": [
    {
     "ename": "NameError",
     "evalue": "name 'problemTest' is not defined",
     "output_type": "error",
     "traceback": [
      "\u001b[1;31m---------------------------------------------------------------------------\u001b[0m",
      "\u001b[1;31mNameError\u001b[0m                                 Traceback (most recent call last)",
      "\u001b[1;32m<ipython-input-10-fc87172a0343>\u001b[0m in \u001b[0;36m<module>\u001b[1;34m()\u001b[0m\n\u001b[0;32m      1\u001b[0m \u001b[1;31m# Test breadth-first searcher\u001b[0m\u001b[1;33m\u001b[0m\u001b[1;33m\u001b[0m\u001b[0m\n\u001b[1;32m----> 2\u001b[1;33m \u001b[0msearcherBreadth\u001b[0m \u001b[1;33m=\u001b[0m \u001b[0mBreadthFirstSearcher\u001b[0m\u001b[1;33m(\u001b[0m\u001b[0mproblemTest\u001b[0m\u001b[1;33m)\u001b[0m\u001b[1;33m\u001b[0m\u001b[0m\n\u001b[0m\u001b[0;32m      3\u001b[0m \u001b[0mprint\u001b[0m\u001b[1;33m(\u001b[0m\u001b[1;34m\"Exploring nodes:\"\u001b[0m\u001b[1;33m)\u001b[0m\u001b[1;33m\u001b[0m\u001b[0m\n\u001b[0;32m      4\u001b[0m \u001b[0mfoundPath\u001b[0m \u001b[1;33m=\u001b[0m \u001b[0msearcherBreadth\u001b[0m\u001b[1;33m.\u001b[0m\u001b[0msearch\u001b[0m\u001b[1;33m(\u001b[0m\u001b[1;33m)\u001b[0m\u001b[1;33m;\u001b[0m\u001b[1;33m\u001b[0m\u001b[0m\n\u001b[0;32m      5\u001b[0m \u001b[0mprint\u001b[0m\u001b[1;33m(\u001b[0m\u001b[1;34m'Path found: {} with a cost of {}'\u001b[0m\u001b[1;33m.\u001b[0m\u001b[0mformat\u001b[0m\u001b[1;33m(\u001b[0m\u001b[0mfoundPath\u001b[0m\u001b[1;33m,\u001b[0m \u001b[0mfoundPath\u001b[0m\u001b[1;33m.\u001b[0m\u001b[0mcost\u001b[0m\u001b[1;33m)\u001b[0m\u001b[1;33m)\u001b[0m\u001b[1;33m\u001b[0m\u001b[0m\n",
      "\u001b[1;31mNameError\u001b[0m: name 'problemTest' is not defined"
     ]
    }
   ],
   "source": [
    "# Test breadth-first searcher\n",
    "searcherBreadth = BreadthFirstSearcher(problemTest)  \n",
    "print(\"Exploring nodes:\")\n",
    "foundPath = searcherBreadth.search();\n",
    "print('Path found: {} with a cost of {}'.format(foundPath, foundPath.cost))"
   ]
  },
  {
   "cell_type": "markdown",
   "metadata": {},
   "source": [
    "**(TO DO) Q3 - 1 mark** <br> \n",
    "Implement the add_to_frontier method for the depth-first search.  And test your implementation."
   ]
  },
  {
   "cell_type": "code",
   "execution_count": null,
   "metadata": {},
   "outputs": [],
   "source": [
    "# Depth-first searcher\n",
    "class DepthFirstSearcher(GenericSearcher):\n",
    "    def __init__(self, problem):   \n",
    "        super().__init__(problem)\n",
    "\n",
    "    def add_to_frontier(self,path):\n",
    "        # depth - put code here\n",
    "        # ... "
   ]
  },
  {
   "cell_type": "code",
   "execution_count": null,
   "metadata": {},
   "outputs": [],
   "source": [
    "# Test\n",
    "searcherDepth = DepthFirstSearcher(problemTest)  \n",
    "print(\"Exploring nodes:\")\n",
    "foundPath = searcherDepth.search();\n",
    "print('Path found: {} with a cost of {}'.format(foundPath, foundPath.cost))"
   ]
  },
  {
   "cell_type": "markdown",
   "metadata": {},
   "source": [
    "**(TO DO) Q4 - 3 marks** <br> \n",
    "Implement the add_to_frontier method for the lowest-cost search. And test your implementation."
   ]
  },
  {
   "cell_type": "code",
   "execution_count": null,
   "metadata": {},
   "outputs": [],
   "source": [
    "# Lowest Cost searcher\n",
    "class LowCostSearcher(GenericSearcher):\n",
    "    def __init__(self, problem):   \n",
    "        super().__init__(problem)\n",
    "\n",
    "    def add_to_frontier(self,path):\n",
    "        # add path to the frontier \n",
    "        # ...\n",
    "        # gather all the costs of all paths in hvalues\n",
    "        # ...\n",
    "        # find the position of the minimum cost\n",
    "        # ...\n",
    "        # remove the element at the position found and append it to the list, so that \"pop\" finds it there later\n",
    "        # ..."
   ]
  },
  {
   "cell_type": "code",
   "execution_count": null,
   "metadata": {},
   "outputs": [],
   "source": [
    "# Test\n",
    "searcherLowCost = LowCostSearcher(problemTest)  \n",
    "print(\"Exploring nodes:\")\n",
    "foundPath = searcherLowCost.search();\n",
    "print('Path found: {} with a cost of {}'.format(foundPath, foundPath.cost))"
   ]
  },
  {
   "cell_type": "markdown",
   "metadata": {},
   "source": [
    "**6. Heuristic searches**  \n",
    "We have seen three types of heuristic searches in class: greedy, best-first and A*.  We can implement them, as different specific searchers which will modify the add_to_frontier method of the generic searcher."
   ]
  },
  {
   "cell_type": "markdown",
   "metadata": {},
   "source": [
    "Let's assume the heuristic function provides an optimistic distance of each node to the goal node 'm'. These distances are encoded in a dictionary call hmap, in the problem definition below, which is an extension to problemTest defined earlier."
   ]
  },
  {
   "cell_type": "code",
   "execution_count": null,
   "metadata": {},
   "outputs": [],
   "source": [
    "problemTestWithHeuristics = Search_problem_from_explicit_graph(\n",
    "    {'a','b','c','d','e', 'f', 'g', 'h', 'j', 'k', 'm'},\n",
    "    [Arc('a','b',3), Arc('a','c',1), Arc('b','d',2), Arc('b','e',1),\n",
    "     Arc('c','f',3), Arc('d', 'g', 1), Arc('e','g',3), Arc('f','h',2),\n",
    "     Arc('g', 'j',1), Arc('h','k',1), Arc('j','m',2), Arc('h','m',6)],\n",
    "    start = 'a',\n",
    "    goals = {'m'},\n",
    "     hmap = {'a':10, 'b':6, 'c':5, 'd':4, 'e':3, 'f':4, 'g':5, 'h':6, 'j':1, 'k':5, 'm':0})"
   ]
  },
  {
   "cell_type": "markdown",
   "metadata": {},
   "source": [
    "Here is an implementation of the A* searcher."
   ]
  },
  {
   "cell_type": "code",
   "execution_count": null,
   "metadata": {},
   "outputs": [],
   "source": [
    "class AStarSearcher(GenericSearcher):\n",
    "    \"\"\"returns a searcher for a problem.\n",
    "    Paths can be found by repeatedly calling search().\n",
    "    \"\"\"\n",
    "    def __init__(self, problem):   \n",
    "        super().__init__(problem)\n",
    "\n",
    "    def getCostKey(self, path):\n",
    "        return (path.cost + self.problem.heuristic(path.end()))\n",
    "    \n",
    "    def add_to_frontier(self,path):\n",
    "        \"\"\"add path to the frontier with the appropriate cost\"\"\"\n",
    "        # add path to the frontier \n",
    "        self.frontier.append(path)\n",
    "        # sort frontier so that all the elements are ordered from most costly to least costly\n",
    "        self.frontier.sort(key=self.getCostKey, reverse=True)"
   ]
  },
  {
   "cell_type": "code",
   "execution_count": null,
   "metadata": {},
   "outputs": [],
   "source": [
    "# Test\n",
    "searcherAStar = AStarSearcher(problemTestWithHeuristics)  \n",
    "print(\"Exploring nodes:\")\n",
    "foundPath = searcherAStar.search();\n",
    "print('Path found: {} with a cost of {}'.format(foundPath, foundPath.cost))"
   ]
  },
  {
   "cell_type": "markdown",
   "metadata": {},
   "source": [
    "**(TO DO) Q5 - 3 marks** <br> \n",
    "The A* searcher is implemented above.  Now implement the best-first searcher and test it."
   ]
  },
  {
   "cell_type": "code",
   "execution_count": 11,
   "metadata": {},
   "outputs": [],
   "source": [
    "# Best first searcher\n",
    "class BestFirstSearcher(GenericSearcher):\n",
    "    \"\"\"returns a searcher for a problem.\n",
    "    Paths can be found by repeatedly calling search().\n",
    "    \"\"\"\n",
    "    def __init__(self, problem):   \n",
    "        super().__init__(problem)\n",
    "    \n",
    "    def add_to_frontier(self,path):\n",
    "        \"\"\"add path to the frontier with the appropriate cost\"\"\"\n",
    "        # Add path to the frontier \n",
    "        self.frontier.append(path)\n",
    "        # Handle what is needed for best first search\n",
    "        # ...\n",
    "        # Need to append *something* back into the frontier\n",
    "        #self.frontier.append(...)"
   ]
  },
  {
   "cell_type": "code",
   "execution_count": null,
   "metadata": {},
   "outputs": [],
   "source": [
    "# Test\n",
    "searcherBestFirst = BestFirstSearcher(problemTestWithHeuristics)  \n",
    "print(\"Exploring nodes:\")\n",
    "foundPath = searcherBestFirst.search();\n",
    "print('Path found: {} with a cost of {}'.format(foundPath, foundPath.cost))"
   ]
  }
 ],
 "metadata": {
  "kernelspec": {
   "display_name": "Python 3",
   "language": "python",
   "name": "python3"
  },
  "language_info": {
   "codemirror_mode": {
    "name": "ipython",
    "version": 3
   },
   "file_extension": ".py",
   "mimetype": "text/x-python",
   "name": "python",
   "nbconvert_exporter": "python",
   "pygments_lexer": "ipython3",
   "version": "3.7.4"
  }
 },
 "nbformat": 4,
 "nbformat_minor": 2
}

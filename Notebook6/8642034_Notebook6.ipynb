{
 "cells": [
  {
   "cell_type": "markdown",
   "metadata": {},
   "source": [
    "# Notebook 6 - Knowledge Representation and NER"
   ]
  },
  {
   "cell_type": "markdown",
   "metadata": {},
   "source": [
    "CSI4106 Artificial Intelligence  \n",
    "Fall 2019  \n",
    "Prepared by Caroline Barrière and Julian Templeton"
   ]
  },
  {
   "cell_type": "markdown",
   "metadata": {},
   "source": [
    "***INTRODUCTION***:  \n",
    "\n",
    "In this notebook you will explore one of the techniques and one of the resources that you have seen in class for Name-Entity Recognition (NER). Instead of typical PER, LOC, ORG entity types, we will go into the restaurant world and focus on entities of type *Cuisine*, *Dish* and others.\n",
    "\n",
    "You will begin by loading in our train and test corpora of restaurant related sentences and move to using a Gazetteer for NER of the words in the corpus.   \n",
    "\n",
    "Then you will explore Wordnet, a lexical semantic network in which knowledge is organized by interrelated synsets (groups of synonyms). Using Wordnet you will use the hyponyms of the *dish* to recognize how to tag tokens as *Dish*.   \n",
    "\n",
    "An important note is that this notebook will be working with *Single Words* rather than *Multi-words*. This means that when tagging words you will not be able to get all of the tags for each word. For example, a sentence \"Find me a restaurant where they serve fettucini alfredo\" is a sentence where the tag *Cuisine* should be used for several words (fettucini alfredo). But looking at single words, only fettucini may be tagged correctly. Dealing with multi-words is quite complex, and that is why we limit ourselves to single words in this notebook, but keep in mind that we would typically want to consider several words, not just single words.\n",
    "\n",
    "Also, the evaluation in this notebook is more qualitative in nature.  We will not perform the usual quantitative methods of precision/recall, but rather just look at examples of output and discuss."
   ]
  },
  {
   "cell_type": "markdown",
   "metadata": {},
   "source": [
    "***HOMEWORK***:  \n",
    "Go through the notebook by running each cell, one at a time.  \n",
    "Look for **(TO DO)** for the tasks that you need to perform. Do not edit the code outside of the questions which you are asked to answer unless specifically asked. Once you're done, Sign the notebook (at the end of the notebook), and submit it.  \n",
    "\n",
    "*The notebook will be marked on 15.  \n",
    "Each **(TO DO)** has a number of points associated with it.*\n",
    "***"
   ]
  },
  {
   "cell_type": "code",
   "execution_count": 1,
   "metadata": {},
   "outputs": [],
   "source": [
    "import re # For the regular expressions that we will be using\n",
    "from nltk.corpus import wordnet # Import Wordnet"
   ]
  },
  {
   "cell_type": "markdown",
   "metadata": {},
   "source": [
    "**1. Setting up the corpus**   \n",
    "Before working on our NER tasks we must setup the corpus that we will be using. For this notebook we will be working with a corpus related to restaurants.   \n",
    "\n",
    "The restaurant corpus is provided on Brightspace but is also available at: https://groups.csail.mit.edu/sls/downloads/ as the *MIT Restaurant Corpus*. This corpus provides lists of tokens from sentences, where each sentence is separated by a blank line, with each token provided a NER tag such as *Cuisine*, *Dish*, *Other (O)*, ... We will explore these soon."
   ]
  },
  {
   "cell_type": "code",
   "execution_count": 2,
   "metadata": {},
   "outputs": [],
   "source": [
    "# Begin collecting the sentences and tags from restauranttrain.bio.txt\n",
    "corpus_train = []\n",
    "with open(\"restauranttrain.bio.txt\") as f:\n",
    "    corpus_train = f.readlines()\n",
    "    \n",
    "# Begin collecting the sentences and tags from restauranttest.bio.txt\n",
    "corpus_test = []\n",
    "with open(\"restauranttest.bio.txt\") as f:\n",
    "    corpus_test = f.readlines()"
   ]
  },
  {
   "cell_type": "code",
   "execution_count": 3,
   "metadata": {},
   "outputs": [],
   "source": [
    "# We will convert the corpus into pairs of sentence tokens and their respective tags.\n",
    "# We will also limit the minimum length of sentences that we keep along with the total number\n",
    "# of sentences.\n",
    "def setup_sentences(corpus, min_sentence_len, max_sentences):\n",
    "    sentences = [] # All of our tokenized sentences with their respective NER tags\n",
    "    sentence = [[], []] # Storing the NER tags along with the sentences in two separate lists\n",
    "    # Format our corpus as a list of lists for easy use later\n",
    "    for line in corpus:\n",
    "        vals = line.split()\n",
    "        if (vals == []):\n",
    "            sentences.append(sentence)\n",
    "            sentence = [[], []]\n",
    "        else:\n",
    "            sentence[0].append(re.sub(r\"[A-Z]-\", \"\", vals[0])) # NER tag (we remove prefixes for simplicity)\n",
    "            sentence[1].append(vals[1]) # Sentence\n",
    "    # Now we will only keep sentences containing at least min_sentence_len words\n",
    "    sentences = [sentence for sentence in sentences if len(sentence[1]) >= min_sentence_len]\n",
    "    # Finally return up to max_sentences sentences\n",
    "    return sentences[:max_sentences]"
   ]
  },
  {
   "cell_type": "code",
   "execution_count": 4,
   "metadata": {},
   "outputs": [],
   "source": [
    "train_sentences = setup_sentences(corpus_train, 5, 1000)\n",
    "test_sentences = setup_sentences(corpus_test, 5, 500)"
   ]
  },
  {
   "cell_type": "code",
   "execution_count": 5,
   "metadata": {},
   "outputs": [
    {
     "name": "stdout",
     "output_type": "stream",
     "text": [
      "1000\n",
      "500\n"
     ]
    }
   ],
   "source": [
    "print(len(train_sentences))\n",
    "print(len(test_sentences))"
   ]
  },
  {
   "cell_type": "code",
   "execution_count": 6,
   "metadata": {},
   "outputs": [
    {
     "name": "stdout",
     "output_type": "stream",
     "text": [
      "['5', 'star', 'resturants', 'in', 'my', 'town'] \n",
      " ['Rating', 'Rating', 'O', 'Location', 'Location', 'Location'] \n",
      "\n",
      "['about', 'how', 'much', 'is', 'a', 'midpriced', 'bottle', 'of', 'good', 'wine', 'at', 'davidos', 'italian', 'palace'] \n",
      " ['O', 'O', 'O', 'O', 'O', 'Price', 'Rating', 'O', 'Rating', 'Cuisine', 'O', 'Restaurant_Name', 'Restaurant_Name', 'Restaurant_Name'] \n",
      "\n",
      "['are', 'there', 'any', 'authentic', 'vietnamese', 'restaurants', 'in', 'the', 'area', 'that', 'specialize', 'in', 'regional', 'dishes'] \n",
      " ['O', 'O', 'O', 'Cuisine', 'Cuisine', 'O', 'Location', 'Location', 'Location', 'O', 'O', 'O', 'Cuisine', 'O'] \n",
      "\n",
      "['can', 'i', 'get', 'a', 'list', 'of', 'restaurants', 'that', 'are', 'still', 'open', 'that', 'serve', 'pancakes'] \n",
      " ['O', 'O', 'O', 'O', 'O', 'O', 'O', 'O', 'O', 'Hours', 'Hours', 'O', 'O', 'Dish'] \n",
      "\n"
     ]
    }
   ],
   "source": [
    "# Let us take a look at a few sample sentences and their NER tags from train_sentences\n",
    "# We will discuss the tags themselves very soon!\n",
    "print(train_sentences[1][1], \"\\n\", train_sentences[1][0], \"\\n\")\n",
    "print(train_sentences[10][1], \"\\n\", train_sentences[10][0], \"\\n\")\n",
    "print(train_sentences[100][1], \"\\n\", train_sentences[100][0], \"\\n\")\n",
    "print(train_sentences[500][1], \"\\n\", train_sentences[500][0], \"\\n\")"
   ]
  },
  {
   "cell_type": "markdown",
   "metadata": {},
   "source": [
    "**2. Understanding the corpus**   \n",
    "Let us explore the corpus to look at the kinds of NER tags being used."
   ]
  },
  {
   "cell_type": "code",
   "execution_count": 7,
   "metadata": {},
   "outputs": [
    {
     "name": "stdout",
     "output_type": "stream",
     "text": [
      "Rating\n",
      "O\n",
      "Amenity\n",
      "Location\n",
      "Restaurant_Name\n",
      "Price\n",
      "Hours\n",
      "Dish\n",
      "Cuisine\n"
     ]
    }
   ],
   "source": [
    "tag_dict = { }\n",
    "# Collect all unique tags via a dictionary\n",
    "for tags, sentence in train_sentences:\n",
    "    for tag in tags:\n",
    "        tag_dict[tag] = True\n",
    "        \n",
    "tags = []\n",
    "# Output all tags used\n",
    "for key in tag_dict:\n",
    "    print(key)\n",
    "    tags.append(key)"
   ]
  },
  {
   "cell_type": "markdown",
   "metadata": {},
   "source": [
    "As you can see, there are 9 different NER tags being used. Note that the tag *O* means Other.   \n",
    "So when we look at the sentence below, we can see that each word of a sentence in our corpus contains a NER tag:  \n",
    "['5', 'star', 'resturants', 'in', 'my', 'town']      \n",
    "['Rating', 'Rating', 'O', 'Location', 'Location', 'Location']   \n",
    "\n",
    "For example '5' is tagged *Rating*, 'in' is tagged *Location*, 'town' is tagged *Location*"
   ]
  },
  {
   "cell_type": "code",
   "execution_count": 8,
   "metadata": {},
   "outputs": [],
   "source": [
    "# Given a tag and list of tag/sentence lists, returns the list of all unique words with that\n",
    "# NER tag.\n",
    "def tag_words(target_tag, sentences):\n",
    "    words = []\n",
    "    for tags, sentence in sentences:\n",
    "        for tag, word in zip(tags, sentence):\n",
    "            if (target_tag == tag) and (not word in words):\n",
    "                words.append(word)\n",
    "    words.sort()\n",
    "    return words"
   ]
  },
  {
   "cell_type": "markdown",
   "metadata": {},
   "source": [
    "**(TO DO) Q1 - 2 marks**   \n",
    "Using the function *tag_words()* above, explore the words associated with each type of named entity from *train_sentences*.  Write a few lines of code to output a few examples of *each type* of entity, as well as the number of different words for each type of entity."
   ]
  },
  {
   "cell_type": "code",
   "execution_count": 9,
   "metadata": {},
   "outputs": [
    {
     "name": "stdout",
     "output_type": "stream",
     "text": [
      "Number of different words for entity 'Rating': 58\n",
      "Examples of entity 'Rating': ['2', '3', '4', '5', 'a', 'at', 'best', 'bottle', 'busy', 'crowd', 'delicious', 'descent', 'excellent', 'famous', 'favorite', 'few', 'first', 'five', 'food', 'four', 'good', 'great', 'health', 'high', 'highest', 'highly', 'least', 'local', 'month', 'nice', 'nicest', 'notable', 'on', 'past', 'pleasing', 'quality', 'rate', 'rated', 'rating', 'ratings', 'reviewed', 'reviews', 'score', 'secret', 'service', 'star', 'starred', 'stars', 'start', 'suggestions', 'superior', 'top', 'toppings', 'tripadvisor', 'views', 'well', 'wonderful', 'zagat']\n",
      "\n",
      "Number of different words for entity 'O': 367\n",
      "Examples of entity 'O': ['00', '1', '100', '2', '20', '3', '30', '4', '6', '8', '98', 'a', 'able', 'ablle', 'about', 'accept', 'address', 'adress', 'all', 'allow', 'allows', 'along', 'alot', 'also', 'although', 'am', 'an', 'and', 'anniversary', 'any', 'anybody', 'anyplace', 'anything', 'anywhere', 'are', 'area', 'around', 'arrange', 'as', 'at', 'available', 'baby', 'based', 'be', 'been', 'before', 'begin', 'being', 'big', 'birthday', 'bitch', 'bite', 'book', 'booked', 'both', 'breakfast', 'bring', 'but', 'by', 'call', 'called', 'can', 'car', 'card', 'catch', 'chance', 'check', 'close', 'clubs', 'community', 'contain', 'cook', 'coul', 'could', 'coupon', 'craving', 'credit', 'cuisine', 'currently', 'date', 'daughters', 'day', 'dessert', 'dine', 'diners', 'dining', 'dinner', 'direct', 'directions', 'dish', 'dishes', 'do', 'does', 'dont', 'early', 'eat', 'eateries', 'eatery', 'eating', 'eight', 'end', 'enjoy', 'entree', 'entrees', 'establishment', 'evening', 'expensive', 'facilities', 'family', 'features', 'featuring', 'feeling', 'few', 'find', 'finda', 'fine', 'food', 'foods', 'for', 'four', 'frequented', 'fresh', 'from', 'full', 'game', 'get', 'gide', 'give', 'go', 'going', 'good', 'got', 'grab', 'great', 'has', 'have', 'having', 'help', 'helping', 'here', 'high', 'hit', 'hold', 'home', 'hotel', 'hotspot', 'hours', 'house', 'how', 'hungry', 'hurry', 'i', 'if', 'im', 'in', 'is', 'it', 'its', 'joint', 'joints', 'just', 'kids', 'know', 'last', 'least', 'like', 'list', 'listing', 'littleton', 'local', 'locate', 'located', 'location', 'locations', 'look', 'looking', 'lujan', 'lunch', 'make', 'mark', 'me', 'meal', 'meals', 'menu', 'menus', 'miles', 'more', 'most', 'much', 'my', 'name', 'names', 'near', 'nearby', 'need', 'needed', 'new', 'next', 'nice', 'now', 'number', 'numbers', 'of', 'off', 'offer', 'offered', 'offering', 'offers', 'on', 'one', 'online', 'open', 'opens', 'operation', 'option', 'options', 'or', 'order', 'other', 'our', 'out', 'paid', 'parlors', 'party', 'pay', 'people', 'per', 'percent', 'permitted', 'person', 'pho', 'phone', 'pick', 'place', 'places', 'please', 'pm', 'point', 'price', 'priced', 'prices', 'proportions', 'provides', 'rated', 'rating', 'ratings', 'really', 'recently', 'recipes', 'recommend', 'reservation', 'reservations', 'reserve', 'restarurants', 'restauarants', 'restaurant', 'restaurants', 'resteraunt', 'restoraunt', 'restoraunts', 'restraunt', 'restraunts', 'restuarants', 'resturant', 'resturants', 'reviews', 'right', 'room', 'route', 'satiisfy', 'search', 'see', 'seen', 'sell', 'sells', 'serve', 'served', 'serves', 'service', 'serving', 'set', 'shop', 'shops', 'should', 'show', 'showing', 'since', 'small', 'smoke', 'so', 'some', 'someplace', 'something', 'somewhere', 'sounding', 'specialize', 'specializing', 'specialties', 'specialty', 'spot', 'spots', 'starving', 'stay', 'steak', 'still', 'store', 'stores', 'style', 'such', 'suggest', 'suggestions', 'suitable', 'table', 'tad', 'take', 'takes', 'taste', 'tasty', 'telephone', 'tell', 'terms', 'than', 'that', 'thats', 'the', 'their', 'there', 'theres', 'they', 'think', 'this', 'those', 'ti', 'time', 'to', 'today', 'tonight', 'too', 'try', 'two', 'type', 'up', 'upscale', 'us', 'use', 'valentines', 'venues', 'very', 'want', 'watch', 'we', 'wednesday', 'well', 'were', 'what', 'whats', 'where', 'whether', 'which', 'while', 'who', 'wife', 'will', 'with', 'within', 'would', 'you']\n",
      "\n",
      "Number of different words for entity 'Amenity': 292\n",
      "Examples of entity 'Amenity': ['10', '12', '17', '50s', 'a', 'accept', 'accepts', 'access', 'accessible', 'alcohol', 'all', 'allday', 'allow', 'allowed', 'ambiance', 'american', 'an', 'are', 'area', 'arrangements', 'as', 'at', 'atmosphere', 'bands', 'bar', 'bars', 'bathrooms', 'beer', 'beverages', 'big', 'bird', 'birthday', 'breakfast', 'brewpub', 'brewpubs', 'bring', 'buffet', 'buffets', 'business', 'by', 'byob', 'cabbage', 'can', 'car', 'card', 'cards', 'carhops', 'carry', 'carryout', 'casual', 'catering', 'caters', 'causual', 'celebrities', 'celebrity', 'celebs', 'charming', 'check', 'checks', 'child', 'children', 'childs', 'chinese', 'chjildren', 'cigars', 'clean', 'cloakroom', 'code', 'college', 'comfortable', 'completely', 'credit', 'crowded', 'date', 'day', 'deals', 'debit', 'deck', 'deliver', 'delivers', 'delivery', 'design', 'diabetic', 'dine', 'dining', 'dinner', 'dinning', 'discounts', 'do', 'dog', 'dogs', 'door', 'down', 'dress', 'drink', 'drive', 'early', 'eat', 'eateries', 'elegant', 'entertainment', 'entrees', 'excepts', 'express', 'eye', 'families', 'family', 'famous', 'fancy', 'fast', 'features', 'fine', 'fireplace', 'fixe', 'fixed', 'floating', 'food', 'for', 'free', 'friendly', 'full', 'fun', 'games', 'good', 'great', 'group', 'groups', 'grown', 'halal', 'handicapped', 'hang', 'hangout', 'hangouts', 'happy', 'healthy', 'historic', 'historical', 'hotel', 'hotels', 'hour', 'huge', 'i', 'if', 'impress', 'in', 'inside', 'internet', 'isnt', 'jazz', 'jeans', 'karaoke', 'kid', 'kids', 'kis', 'large', 'line', 'list', 'live', 'local', 'locally', 'location', 'lot', 'lunch', 'make', 'mastercard', 'meal', 'meals', 'members', 'menu', 'menus', 'music', 'my', 'nice', 'night', 'no', 'non', 'not', 'occasion', 'of', 'offers', 'on', 'online', 'option', 'ordered', 'out', 'outdoor', 'outdoors', 'outs', 'outside', 'own', 'owned', 'parking', 'party', 'partying', 'patio', 'pay', 'payment', 'paypal', 'people', 'perfectly', 'pet', 'pets', 'pizza', 'place', 'play', 'playing', 'playrooms', 'plays', 'portioned', 'portions', 'prices', 'private', 'prix', 'produce', 'promote', 'quickly', 'quiet', 'red', 'refills', 'require', 'reservation', 'reservations', 'reservatuibs', 'restaurant', 'romantic', 'rooms', 'samples', 'seating', 'section', 'see', 'seeing', 'senor', 'serve', 'serves', 'service', 'services', 'setting', 'seven', 'sightseeing', 'sit', 'sitting', 'skyline', 'small', 'smoke', 'smoking', 'soda', 'some', 'special', 'specials', 'split', 'sports', 'stand', 'standing', 'stroller', 'stting', 'style', 'stylish', 'table', 'tables', 'take', 'takeout', 'takes', 'the', 'theater', 'theme', 'throughs', 'thru', 'to', 'tourist', 'traditional', 'travelers', 'two', 'type', 'us', 'use', 'valet', 'variety', 'view', 'visa', 'wait', 'want', 'watch', 'water', 'waterfront', 'wear', 'while', 'wine', 'with', 'without', 'would', 'you', 'your']\n",
      "\n",
      "Number of different words for entity 'Location': 244\n",
      "Examples of entity 'Location': ['1', '10', '135', '15', '2', '25', '3', '4', '5', '52nd', '8', '86th', 'a', 'abington', 'airport', 'along', 'and', 'angeles', 'annapolis', 'anywhere', 'area', 'arent', 'arlington', 'around', 'ashland', 'at', 'atlanta', 'atlantic', 'ave', 'avenue', 'away', 'baltimore', 'battery', 'bay', 'beach', 'beacon', 'beaumont', 'berkeley', 'between', 'billerica', 'block', 'blocks', 'boulevard', 'by', 'ca', 'california', 'canton', 'carolina', 'center', 'central', 'centre', 'chattanooga', 'chester', 'china', 'chinatown', 'city', 'cleveland', 'close', 'closed', 'closest', 'closet', 'crossing', 'current', 'dc', 'detroit', 'diego', 'dining', 'distance', 'distract', 'district', 'down', 'downtown', 'drive', 'east', 'elm', 'end', 'far', 'fifteen', 'five', 'florence', 'forest', 'fort', 'four', 'francisco', 'from', 'georgian', 'germantown', 'glen', 'gona', 'governement', 'government', 'hal', 'harvard', 'head', 'hear', 'here', 'hicksville', 'high', 'hill', 'home', 'hospital', 'hotel', 'hour', 'house', 'hovendon', 'in', 'independence', 'indiana', 'inman', 'island', 'isnt', 'jamaica', 'jersey', 'job', 'kerry', 'kingston', 'ky', 'leoshe', 'less', 'lexington', 'little', 'local', 'located', 'location', 'locations', 'locust', 'long', 'los', 'main', 'mall', 'manhattan', 'maple', 'march', 'marina', 'md', 'me', 'memphis', 'miami', 'middleboro', 'mile', 'miles', 'milford', 'millis', 'minute', 'minutes', 'montana', 'montauk', 'more', 'museum', 'my', 'myers', 'myrlte', 'n', 'napa', 'natick', 'near', 'nearby', 'nearest', 'neighborhood', 'new', 'next', 'north', 'not', 'ny', 'oak', 'oakland', 'ocean', 'of', 'office', 'one', 'or', 'our', 'outside', 'paris', 'park', 'pier', 'place', 'places', 'plain', 'port', 'post', 'prescott', 'quincy', 'radius', 'rd', 'received', 'redding', 'road', 'roslyn', 'route', 'roxbury', 'sacramento', 'san', 'school', 'service', 'shawsheen', 'side', 'south', 'southborough', 'square', 'st', 'state', 'stockton', 'stop', 'str', 'street', 'sunswept', 'supermarket', 'ten', 'terminal', 'th', 'than', 'the', 'theater', 'theatre', 'thirty', 'this', 'three', 'tilburg', 'time', 'to', 'too', 'town', 'tri', 'tuscon', 'twenty', 'valley', 'very', 'vicinity', 'volusia', 'walking', 'washington', 'waterfront', 'way', 'west', 'westborough', 'westbury', 'wichita', 'winter', 'with', 'within', 'withing', 'work', 'york']\n",
      "\n",
      "Number of different words for entity 'Restaurant_Name': 230\n",
      "Examples of entity 'Restaurant_Name': ['1790', '5', 'abuelos', 'and', 'anthonys', 'apple', 'applebees', 'arbys', 'aromas', 'asai', 'ashland', 'bakery', 'bamboo', 'bar', 'barrel', 'bbq', 'beanery', 'bees', 'bell', 'bella', 'belle', 'bellinis', 'bells', 'bertucci', 'bertuccis', 'beverly', 'biscuit', 'bisuteki', 'bj', 'black', 'blue', 'bob', 'bouchon', 'brighton', 'brook', 'bs', 'buckram', 'bueno', 'buffet', 'burger', 'burgers', 'butterfields', 'cadete', 'cafe', 'carinos', 'carlitos', 'castle', 'changs', 'charlies', 'cheesecake', 'chicago', 'chichis', 'chilis', 'china', 'cicis', 'cinnabon', 'cj', 'cjs', 'co', 'coast', 'coffee', 'cookhouse', 'corral', 'country', 'county', 'cracker', 'cristinas', 'cuisine', 'dairy', 'daisy', 'davidos', 'delicious', 'denneys', 'dennys', 'diner', 'dinosaur', 'dominos', 'donalds', 'donovans', 'donuts', 'dunkin', 'enterprise', 'evans', 'factory', 'fine', 'fishhouse', 'five', 'fortune', 'fox', 'fridays', 'fries', 'gallaghers', 'garden', 'gardens', 'golden', 'gourmet', 'greek', 'griffins', 'grill', 'gs', 'guys', 'hals', 'hampton', 'heidleburg', 'henpeckss', 'hidden', 'ho', 'home', 'hong', 'hotels', 'hotpot', 'hound', 'house', 'hut', 'huts', 'ichiban', 'ihop', 'ihops', 'in', 'inernational', 'italian', 'jacks', 'japanese', 'john', 'johnny', 'johns', 'kfc', 'king', 'kings', 'kitchen', 'kong', 'kookoo', 'la', 'landing', 'landrys', 'le', 'lecooks', 'lees', 'lincolns', 'line', 'list', 'little', 'lobster', 'long', 'lucky', 'madelines', 'marco', 'marlenes', 'martins', 'maxs', 'mc', 'mcdills', 'mcdonalds', 'mercys', 'mi', 'michelin', 'mirror', 'monicas', 'murphys', 'n', 'napoli', 'needham', 'nikos', 'north', 'nu', 'obriens', 'oconnors', 'of', 'ohgane', 'ol', 'olive', 'out', 'outback', 'outbacks', 'pacos', 'paisas', 'palace', 'papa', 'passims', 'piacis', 'picos', 'pie', 'pizza', 'pizzeria', 'place', 'polo', 'popeyes', 'pub', 'q', 'queen', 'red', 'restaurant', 'restaurants', 'rivertown', 'robin', 'rockets', 'rogers', 'romys', 'rooftop', 'roy', 'russos', 'savanos', 'sebastians', 'sevans', 'shack', 'shrimp', 'silvers', 'sonics', 'spices', 'stables', 'starbucks', 'steak', 'steakhouse', 'stephen', 'subway', 'taco', 'tavern', 'tgif', 'tims', 'tomachhios', 'toy', 'tudors', 'uno', 'vie', 'way', 'wendys', 'white', 'world', 'yogis', 'yogurt']\n",
      "\n",
      "Number of different words for entity 'Price': 63\n",
      "Examples of entity 'Price': ['00', '1', '10', '15', 'a', 'affordable', 'amazing', 'arent', 'average', 'cheap', 'cheapest', 'cheaply', 'cost', 'deal', 'deals', 'decent', 'dining', 'dollar', 'dollars', 'expensive', 'fair', 'fairly', 'fantastic', 'fine', 'five', 'for', 'free', 'good', 'great', 'high', 'inexpensive', 'isnt', 'low', 'meal', 'mid', 'midpriced', 'moderate', 'moderately', 'more', 'nicely', 'no', 'not', 'of', 'only', 'per', 'person', 'place', 'prices', 'pricy', 'real', 'really', 'reasonable', 'reasonably', 'slightly', 'somewhat', 'sort', 'specials', 'than', 'too', 'two', 'under', 'upscale', 'wonderful']\n",
      "\n",
      "Number of different words for entity 'Hours': 71\n",
      "Examples of entity 'Hours': ['00', '1', '10', '11', '11pm', '12', '2', '24', '2am', '30', '4', '5', '6', '7', '700', '8', '9', 'a', 'after', 'all', 'am', 'around', 'at', 'before', 'breakfast', 'brunch', 'daily', 'day', 'days', 'dining', 'dinner', 'early', 'eight', 'evenings', 'for', 'frequented', 'hour', 'hours', 'in', 'late', 'least', 'lunch', 'm', 'midnight', 'morning', 'night', 'nine', 'noon', 'now', 'on', 'open', 'opened', 'opens', 'order', 'p', 'past', 'pm', 'right', 'seven', 'still', 'supper', 'thanksgiving', 'the', 'this', 'til', 'till', 'times', 'tonight', 'until', 'week', 'weekdays']\n",
      "\n",
      "Number of different words for entity 'Dish': 165\n",
      "Examples of entity 'Dish': ['and', 'appetizers', 'baba', 'bacon', 'bagel', 'bagels', 'bar', 'bbq', 'bean', 'beans', 'beef', 'beer', 'birthday', 'boardwalk', 'boca', 'bottles', 'bourek', 'bowl', 'bratwurst', 'bread', 'brisket', 'brownies', 'buffalo', 'burger', 'burgers', 'burrito', 'caesar', 'caeser', 'cakes', 'cheese', 'cheeseburger', 'chicago', 'chicken', 'chili', 'chips', 'chocolate', 'choices', 'chowder', 'clam', 'cocktails', 'coffee', 'cookies', 'corn', 'crabs', 'cream', 'crispy', 'crusts', 'cuisine', 'cupcakes', 'curd', 'curry', 'dish', 'dishes', 'dog', 'donuts', 'dough', 'drinks', 'dumplings', 'enchiladas', 'entree', 'eye', 'fake', 'filet', 'fish', 'food', 'for', 'french', 'fresh', 'fried', 'fries', 'fruits', 'fruity', 'ganoush', 'grits', 'guacamole', 'gyro', 'gyros', 'handcrafted', 'healthy', 'hip', 'home', 'hot', 'ice', 'is', 'known', 'lobster', 'made', 'margaritas', 'meat', 'meatballs', 'meatloaf', 'meats', 'messy', 'mignon', 'milkshakes', 'mojito', 'new', 'noodle', 'of', 'onion', 'pancakes', 'pastry', 'pickle', 'pie', 'pita', 'pizza', 'polish', 'potato', 'rib', 'ribs', 'rings', 'roll', 'sake', 'salad', 'salmon', 'sandwich', 'sandwiches', 'sandwichs', 'sangrias', 'sashimi', 'sauce', 'sausage', 'seafood', 'serve', 'shakes', 'shrimp', 'skillet', 'slices', 'soft', 'soup', 'southern', 'souvaki', 'soy', 'spaghetti', 'spicy', 'spit', 'steak', 'style', 'sub', 'submarine', 'subs', 'substitute', 'sushi', 'swedish', 'sweet', 'tacos', 'take', 'tapas', 'tea', 'thick', 'thin', 'this', 'to', 'toast', 'tofu', 'toppings', 'town', 'turkey', 'vegetarian', 'waffles', 'wine', 'wings', 'with', 'york', 'you']\n",
      "\n",
      "Number of different words for entity 'Cuisine': 130\n",
      "Examples of entity 'Cuisine': ['afghan', 'african', 'american', 'asian', 'authentic', 'bakery', 'bar', 'barbecue', 'barbeque', 'bars', 'beanery', 'beer', 'bistro', 'brazilian', 'breakfast', 'brewery', 'brunch', 'burger', 'burrito', 'cafe', 'cafes', 'cajun', 'cali', 'chain', 'chilean', 'chinese', 'chowder', 'coffee', 'colombian', 'cooked', 'cream', 'cuban', 'deli', 'delis', 'desert', 'dessert', 'diner', 'diners', 'dining', 'dinner', 'donut', 'doughnut', 'drink', 'eastern', 'eateries', 'eatery', 'english', 'ethiopian', 'european', 'family', 'fast', 'fat', 'filipino', 'fine', 'food', 'for', 'french', 'fresh', 'garden', 'garlic', 'german', 'good', 'greek', 'halal', 'health', 'hoa', 'home', 'homemade', 'hong', 'hotel', 'house', 'houses', 'ice', 'indian', 'irish', 'italian', 'jamaican', 'japanese', 'joint', 'kong', 'korean', 'kosher', 'lots', 'low', 'lunch', 'malaysian', 'market', 'meat', 'mediterranean', 'mexican', 'mongolian', 'mussels', 'mystery', 'of', 'organic', 'pad', 'pancake', 'parlors', 'pastry', 'pizza', 'pizzeria', 'pizzerias', 'raw', 'regional', 'sandwich', 'scandanavian', 'seafood', 'smoothie', 'snack', 'soul', 'southwestern', 'spanish', 'steak', 'steakhouse', 'steakhouses', 'style', 'suishi', 'sushi', 'taco', 'tapas', 'tea', 'thai', 'theaters', 'truck', 'trucks', 'vegan', 'vegetarian', 'vegeterian', 'vietnamese', 'wine']\n"
     ]
    }
   ],
   "source": [
    "# Give some examples (words) for each type of entity along with the number of different words\n",
    "# tagged with each entity in train_sentences\n",
    "print(\"Number of different words for entity 'Rating': \"+ str(len(tag_words('Rating', train_sentences))))\n",
    "print(\"Examples of entity 'Rating': \"+ str(tag_words('Rating', train_sentences)))\n",
    "\n",
    "print(\"\\nNumber of different words for entity 'O': \"+ str(len(tag_words('O', train_sentences))))\n",
    "print(\"Examples of entity 'O': \"+ str(tag_words('O', train_sentences)))\n",
    "\n",
    "print(\"\\nNumber of different words for entity 'Amenity': \"+ str(len(tag_words('Amenity', train_sentences))))\n",
    "print(\"Examples of entity 'Amenity': \"+ str(tag_words('Amenity', train_sentences)))\n",
    "\n",
    "print(\"\\nNumber of different words for entity 'Location': \"+ str(len(tag_words('Location', train_sentences))))\n",
    "print(\"Examples of entity 'Location': \"+ str(tag_words('Location', train_sentences)))\n",
    "\n",
    "print(\"\\nNumber of different words for entity 'Restaurant_Name': \"+ str(len(tag_words('Restaurant_Name', train_sentences))))\n",
    "print(\"Examples of entity 'Restaurant_Name': \"+ str(tag_words('Restaurant_Name', train_sentences)))\n",
    "\n",
    "print(\"\\nNumber of different words for entity 'Price': \"+ str(len(tag_words('Price', train_sentences))))\n",
    "print(\"Examples of entity 'Price': \"+ str(tag_words('Price', train_sentences)))\n",
    "\n",
    "print(\"\\nNumber of different words for entity 'Hours': \"+ str(len(tag_words('Hours', train_sentences))))\n",
    "print(\"Examples of entity 'Hours': \"+ str(tag_words('Hours', train_sentences)))\n",
    "\n",
    "print(\"\\nNumber of different words for entity 'Dish': \"+ str(len(tag_words('Dish', train_sentences))))\n",
    "print(\"Examples of entity 'Dish': \"+ str(tag_words('Dish', train_sentences)))\n",
    "\n",
    "print(\"\\nNumber of different words for entity 'Cuisine': \"+ str(len(tag_words('Cuisine', train_sentences))))\n",
    "print(\"Examples of entity 'Cuisine': \"+ str(tag_words('Cuisine', train_sentences)))\n"
   ]
  },
  {
   "cell_type": "markdown",
   "metadata": {},
   "source": [
    "**3. Using Gazetteers for NER**    \n",
    "Now we will explore using Gazetteers for NER. Specifically, we will be using Wikipedia's list of Cuisines to along with Edit Distance to tag any tokens as *Cuisine*."
   ]
  },
  {
   "cell_type": "markdown",
   "metadata": {},
   "source": [
    "***3.1. Setting up the Gazetteer***    \n",
    "First thing to do is to setup the Gazetteer from Wikipedia's list of Cuisines (https://en.wikipedia.org/wiki/List_of_cuisines). We could scrape the webpage and extract these, but for the sake of keeping it simple the notebook includes the file *cuisine_gazetteer.txt* that we will use to load the Gazetteer."
   ]
  },
  {
   "cell_type": "code",
   "execution_count": 10,
   "metadata": {},
   "outputs": [],
   "source": [
    "# Setup the Gazetteer\n",
    "gazetteer = []\n",
    "with open(\"cuisine_gazetteer.txt\") as f:\n",
    "    gazetteer = f.read().splitlines()\n",
    "\n",
    "# Since we are working with Single Words, we will only keep the first word \n",
    "# of each index in our Gazatteer.\n",
    "gazetteer = list(set([cuisine.split()[0].lower() for cuisine in gazetteer]))\n",
    "gazetteer.sort()"
   ]
  },
  {
   "cell_type": "code",
   "execution_count": 11,
   "metadata": {},
   "outputs": [
    {
     "data": {
      "text/plain": [
       "['ainu',\n",
       " 'albanian',\n",
       " 'andhra',\n",
       " 'anglo-indian',\n",
       " 'arab',\n",
       " 'argentine',\n",
       " 'armenian',\n",
       " 'assyrian',\n",
       " 'awadhi',\n",
       " 'azerbaijani',\n",
       " 'balochi',\n",
       " 'bangladeshi',\n",
       " 'belarusian',\n",
       " 'bengali',\n",
       " 'berber',\n",
       " 'brazilian',\n",
       " 'buddhist',\n",
       " 'bulgarian',\n",
       " 'cajun',\n",
       " 'cantonese',\n",
       " 'caribbean',\n",
       " 'chechen',\n",
       " 'chinese',\n",
       " 'circassian',\n",
       " 'crimean',\n",
       " 'cypriot',\n",
       " 'danish',\n",
       " 'english',\n",
       " 'estonian',\n",
       " 'filipino',\n",
       " 'french',\n",
       " 'georgian',\n",
       " 'german',\n",
       " 'goan',\n",
       " 'greek',\n",
       " 'gujarati',\n",
       " 'hong',\n",
       " 'hyderabad',\n",
       " 'indian',\n",
       " 'indonesian',\n",
       " 'inuit',\n",
       " 'irish',\n",
       " 'italian',\n",
       " 'jamaican',\n",
       " 'japanese',\n",
       " 'jewish',\n",
       " 'karnataka',\n",
       " 'kazakh',\n",
       " 'keralite',\n",
       " 'korean',\n",
       " 'kurdish',\n",
       " 'laotian',\n",
       " 'latvian',\n",
       " 'lebanese',\n",
       " 'lithuanian',\n",
       " 'louisiana',\n",
       " 'maharashtrian',\n",
       " 'malay',\n",
       " 'malaysian',\n",
       " 'mangalorean',\n",
       " 'mediterranean',\n",
       " 'mexican',\n",
       " 'mordovian',\n",
       " 'mughal',\n",
       " 'native',\n",
       " 'nepalese',\n",
       " 'new',\n",
       " 'odia',\n",
       " 'pakistani',\n",
       " 'parsi',\n",
       " 'pashtun',\n",
       " 'pennsylvania',\n",
       " 'peranakan',\n",
       " 'persian',\n",
       " 'peruvian',\n",
       " 'polish',\n",
       " 'portuguese',\n",
       " 'punjabi',\n",
       " 'rajasthani',\n",
       " 'romanian',\n",
       " 'russian',\n",
       " 'sami',\n",
       " 'serbian',\n",
       " 'sindhi',\n",
       " 'slovak',\n",
       " 'slovenian',\n",
       " 'somali',\n",
       " 'south',\n",
       " 'soviet',\n",
       " 'spanish',\n",
       " 'sri',\n",
       " 'taiwanese',\n",
       " 'tamil',\n",
       " 'tatar',\n",
       " 'thai',\n",
       " 'turkish',\n",
       " 'udupi',\n",
       " 'ukrainian',\n",
       " 'vietnamese',\n",
       " 'yamal',\n",
       " 'zambian',\n",
       " 'zanzibari']"
      ]
     },
     "execution_count": 11,
     "metadata": {},
     "output_type": "execute_result"
    }
   ],
   "source": [
    "# Look at the contents of the Gazetteer\n",
    "gazetteer"
   ]
  },
  {
   "cell_type": "markdown",
   "metadata": {},
   "source": [
    "***3.2. Tagging Cuisines using Edit Distance***    \n",
    "Now that we have the Gazetteer, we need to define a metric to determine whether a token should be tagged as *Cuisine*. To do this we will use *Edit Distance*.   \n",
    "Recall that for regular edit distance we only look at *Deletion* (+1), *Insertion* (+1), and *Replacement* (+1)"
   ]
  },
  {
   "cell_type": "code",
   "execution_count": 12,
   "metadata": {},
   "outputs": [],
   "source": [
    "# Calculates the Edit Distance between two words s1 and s2\n",
    "def edit_distance(s1, s2):\n",
    "    m=len(s1)+1\n",
    "    n=len(s2)+1\n",
    "\n",
    "    tbl = {}\n",
    "    for i in range(m): tbl[i,0]=i\n",
    "    for j in range(n): tbl[0,j]=j\n",
    "    for i in range(1, m):\n",
    "        for j in range(1, n):\n",
    "            cost = 0 if s1[i-1] == s2[j-1] else 1\n",
    "            tbl[i,j] = min(tbl[i, j-1]+1, tbl[i-1, j]+1, tbl[i-1, j-1]+cost)\n",
    "\n",
    "    return tbl[i,j]"
   ]
  },
  {
   "cell_type": "code",
   "execution_count": 13,
   "metadata": {},
   "outputs": [
    {
     "name": "stdout",
     "output_type": "stream",
     "text": [
      "Edit Distance between tuesday and thursday: 2\n",
      "Edit Distance between artificial and intelligence: 8\n",
      "Edit Distance between fresh and frozen: 4\n"
     ]
    }
   ],
   "source": [
    "# Let us check the edit-distance with a few examples\n",
    "print(\"Edit Distance between tuesday and thursday:\", edit_distance(\"tuesday\", \"thursday\"))\n",
    "print(\"Edit Distance between artificial and intelligence:\", edit_distance(\"artificial\", \"thursday\"))\n",
    "print(\"Edit Distance between fresh and frozen:\", edit_distance(\"fresh\", \"frozen\"))"
   ]
  },
  {
   "cell_type": "markdown",
   "metadata": {},
   "source": [
    "**(TO DO) Q2 - 2 marks**      \n",
    "With an understanding of the edit_distance function, we will define the function *ner_ed* that computes the edit distance between all tokens in our corpus with each item in our Gazetteer. If the edit distance between a token and a cuisine from our Gazetteer is under a specified threshold (an integer) we classify it as the same tag as those in our Gazetteer (in this case, *Cuisine*) by appending it to the list of words containing that tag. Specifically, we append the token and the gazetteer term as 'token/term'. The function returns a sorted list of the words that are determined to have the same tag as specified by the Gazetteer.    \n",
    "\n",
    "Below is a partially completed implementation of ner_ed which you must complete. Understanding the description of the function above you must complete the implementation below by adding the appropriate loop structure to allow the edit_distance logic to be correctly computed (already there, no need to edit it just need to setup the loops to be compatible). Recall that the structure of sentences is a list of lists ([[tags], [tokens]]). Also note that we will call a word from a Gazetteer a *term* and a word from a sentence a *token*."
   ]
  },
  {
   "cell_type": "code",
   "execution_count": 14,
   "metadata": {},
   "outputs": [],
   "source": [
    "# Given a list of tag/sentence lists, a gazetteer, and a threshold, compute the edit distance\n",
    "# between each token from each sentence to each cuisine from the gazatteer. If the edit distance\n",
    "# is <= a provided threshold, we collect the word as a word that would be tagged with the same tag\n",
    "# as the Gazetteer content.\n",
    "# In this section the tag would be cuisine since the gazetteer is based on cuisines.\n",
    "def ner_ed(sentences, gazetteer, threshold):\n",
    "    words = []\n",
    "    # TO DO - Setup the three loops:\n",
    "    # Loop 1\n",
    "    for x in sentences:\n",
    "        # Loop 2 (introduces the variable token used below)\n",
    "        for token in tag_words('Cuisine', sentences):\n",
    "            # Loop 3 (introduces the variable term used below)\n",
    "            for term in gazetteer:\n",
    "                # Computing the edit distance between sentence tokens and \n",
    "                # the Gazetteer terms.\n",
    "                if (edit_distance(token, term) <= threshold):\n",
    "                    if (not token + \"/\" + term in words):\n",
    "                        words.append(token + \"/\" + term)\n",
    "                    break\n",
    "    # Sort the list\n",
    "    words.sort()\n",
    "    return words"
   ]
  },
  {
   "cell_type": "markdown",
   "metadata": {},
   "source": [
    "With this function, let's test it using three different thresholds on *test_sentences*."
   ]
  },
  {
   "cell_type": "code",
   "execution_count": 15,
   "metadata": {},
   "outputs": [],
   "source": [
    "# The below will give sorted lists of words that tagged as Cuisine\n",
    "# This may take 40+ seconds (depending on your CPU), so be patient\n",
    "\n",
    "# Threshold = 0\n",
    "gz_ed_th0_words = ner_ed(test_sentences, gazetteer, threshold=0)\n",
    "# Threshold = 1\n",
    "gz_ed_th1_words = ner_ed(test_sentences, gazetteer, threshold=1)\n",
    "# Threshold = 2\n",
    "gz_ed_th2_words = ner_ed(test_sentences, gazetteer, threshold=2)"
   ]
  },
  {
   "cell_type": "code",
   "execution_count": 16,
   "metadata": {},
   "outputs": [
    {
     "name": "stdout",
     "output_type": "stream",
     "text": [
      "Distance 0\n",
      "['brazilian/brazilian', 'cajun/cajun', 'chinese/chinese', 'french/french', 'german/german', 'greek/greek', 'indian/indian', 'irish/irish', 'italian/italian', 'japanese/japanese', 'korean/korean', 'malaysian/malaysian', 'mexican/mexican', 'spanish/spanish', 'thai/thai', 'turkish/turkish', 'vietnamese/vietnamese']\n",
      "Distance 1\n",
      "['brazilian/brazilian', 'cajun/cajun', 'chinese/chinese', 'crab/arab', 'french/french', 'german/german', 'greek/greek', 'indian/indian', 'irish/irish', 'italian/italian', 'japanese/japanese', 'korean/korean', 'malaysian/malaysian', 'mexican/mexican', 'portugues/portuguese', 'spanish/spanish', 'thai/thai', 'turkish/turkish', 'vietnamese/vietnamese']\n",
      "Distance 2\n",
      "['american/mexican', 'and/ainu', 'bars/parsi', 'brazilian/brazilian', 'burger/berber', 'cajun/cajun', 'chicken/chechen', 'chinese/chinese', 'crab/arab', 'french/french', 'fruit/inuit', 'german/german', 'greek/greek', 'indian/indian', 'irish/irish', 'italian/italian', 'japanese/japanese', 'korean/korean', 'latin/laotian', 'malaysian/malaysian', 'mexican/mexican', 'portugues/portuguese', 'ranch/french', 'raw/arab', 'rib/arab', 'sea/new', 'soul/south', 'spanish/danish', 'sub/sri', 'thai/thai', 'todai/thai', 'turkish/kurdish', 'vietnamese/vietnamese', 'wine/ainu']\n"
     ]
    }
   ],
   "source": [
    "print(\"Distance 0\")\n",
    "print(gz_ed_th0_words)\n",
    "print(\"Distance 1\")\n",
    "print(gz_ed_th1_words)\n",
    "print(\"Distance 2\")\n",
    "print(gz_ed_th2_words)"
   ]
  },
  {
   "cell_type": "markdown",
   "metadata": {},
   "source": [
    "**(TO DO) Q3 - 4 marks**   \n",
    "1) Describe what starts to happen as the threshold increases. Are any other cuisines found by increasing the threshold (That weren't previously there)?  \n",
    "2) A good threshold should be relative to the length of the term. This means that rather than using an integer threshold, we use a float percentage. Then, when checking the threshold, we multiply the threshold by the length of the Gazetteer term. Copy over your implementation of the *ner_ed* function into the *ner_ed_rel* below, modify the function to use a relative threshold as described above.  \n",
    "3) Test this new approach using a 25% and 50% threshold. Print the returned lists.    \n",
    "4) Does relative thresholding better capture variations than not using a relative thresholding? ***Look at the short words vs longer words.***"
   ]
  },
  {
   "cell_type": "markdown",
   "metadata": {},
   "source": [
    "Q3 - ANSWER (1)   \n",
    "Describe what starts to happen as the threshold increases:   \n",
    "As the threshold increases, the overall chance of classifying incorrect cuisine and correct cuisine increases. Words with relatively shorter lengths are more likely to be classified as a cuisine, regardless of their actual classification. For example, a word with 'N' letters will always be classified as a cuisine if the threshold is above N.    \n",
    "\n",
    "\n",
    "Are any other cuisines found by increasing the thershold (that weren't previously there)?    \n",
    "Yes. When increasing the threshold from 0 to 1, we found two new cuisines - ['crab/arab', 'portugues/portuguese']. When increasing the threshold from 0 to 2, we found seventeen new cuisines - ['american/mexican', 'and/ainu', 'bars/parsi', 'burger/ berber', 'chicken/chechen', 'crab/arab', 'fruit/inuit', 'latin/laotian', 'ranch/french', 'raw/arab', 'rib/arab', 'sea/new', 'soul/south', 'spanish/danish', 'sub/sri', 'todai/thai', 'wine/ainu'].\n"
   ]
  },
  {
   "cell_type": "code",
   "execution_count": 17,
   "metadata": {},
   "outputs": [],
   "source": [
    "# Q3 - ANSWER (2)\n",
    "\n",
    "def ner_ed_rel(sentences, gazetteer, threshold):\n",
    "    words = []\n",
    "    # TO DO - Setup the three loops:\n",
    "    # Loop 1\n",
    "    for x in sentences:\n",
    "        # Loop 2 (introduces the variable token used below)\n",
    "        for token in tag_words('Cuisine', sentences):\n",
    "            # Loop 3 (introduces the variable term used below)\n",
    "            for term in gazetteer:\n",
    "                # Computing the edit distance between sentence tokens and \n",
    "                # the Gazetteer terms.\n",
    "                if (edit_distance(token, term) <= (threshold*len(term))):\n",
    "                    if (not token + \"/\" + term in words):\n",
    "                        words.append(token + \"/\" + term)\n",
    "                    break\n",
    "    # Sort the list\n",
    "    words.sort()\n",
    "    return words"
   ]
  },
  {
   "cell_type": "code",
   "execution_count": 18,
   "metadata": {},
   "outputs": [
    {
     "name": "stdout",
     "output_type": "stream",
     "text": [
      "Distance with 25% Threshold\n",
      "['brazilian/brazilian', 'cajun/cajun', 'chinese/chinese', 'crab/arab', 'french/french', 'german/german', 'greek/greek', 'indian/indian', 'irish/irish', 'italian/italian', 'japanese/japanese', 'korean/korean', 'malaysian/malaysian', 'mexican/mexican', 'portugues/portuguese', 'spanish/spanish', 'thai/thai', 'turkish/turkish', 'vietnamese/vietnamese']\n",
      "Distance with 50% Threshold\n",
      "['afghan/mughal', 'american/armenian', 'and/ainu', 'asian/albanian', 'bars/parsi', 'brazilian/belarusian', 'burger/berber', 'cajun/cajun', 'cambodian/albanian', 'chicken/chechen', 'chinese/cantonese', 'crab/arab', 'cream/crimean', 'dining/danish', 'ethiopian/estonian', 'french/french', 'fruit/inuit', 'fusion/russian', 'german/georgian', 'greek/greek', 'hawaiian/albanian', 'health/keralite', 'indian/anglo-indian', 'irish/danish', 'italian/albanian', 'japanese/cantonese', 'joint/soviet', 'korean/georgian', 'latin/albanian', 'malaysian/albanian', 'mexican/armenian', 'portugues/portuguese', 'ranch/danish', 'raw/arab', 'rib/arab', 'soul/somali', 'spanish/danish', 'steak/slovak', 'sushi/sindhi', 'thai/thai', 'todai/somali', 'turkish/kurdish', 'vegan/georgian', 'vietnamese/vietnamese', 'wine/ainu']\n"
     ]
    }
   ],
   "source": [
    "# Q3 - ANSWER (3)\n",
    "\n",
    "# 25% Threshold\n",
    "gz_ed_th0_25_words = ner_ed_rel(test_sentences, gazetteer, threshold=0.25)\n",
    "print(\"Distance with 25% Threshold\")\n",
    "print(gz_ed_th0_25_words)\n",
    "\n",
    "# 50% threshold\n",
    "gz_ed_th0_50_words = ner_ed_rel(test_sentences, gazetteer, threshold=0.50)\n",
    "print(\"Distance with 50% Threshold\")\n",
    "print(gz_ed_th0_50_words)"
   ]
  },
  {
   "cell_type": "markdown",
   "metadata": {},
   "source": [
    "Q3 - ANSWER (4)    \n",
    "Does relative thresholding better capture variations than not using a relative thresholding?   \n",
    "\n",
    "Relative thresholding better captures variations than not using relative thresholding when the relative threshold is low. When using a relative threshold of 25%, the variations captured matched the results obtained when using a threshold distance of 1. However, using a relative threshold of 50% resulted in 45 captured variations, 11 more than when using a threshold distance of 2. Additionally, longer words fared worse when it comes to relative thresholding as the relative threshold allows for more distance than shorter words."
   ]
  },
  {
   "cell_type": "markdown",
   "metadata": {},
   "source": [
    "**4. Exploring Wordnet**   \n",
    "Let's first explore a bit the wordnet interface within nltk.  \n",
    "You can also look a the [WordNet interface description](http://www.nltk.org/howto/wordnet.html)"
   ]
  },
  {
   "cell_type": "code",
   "execution_count": 19,
   "metadata": {},
   "outputs": [
    {
     "name": "stdout",
     "output_type": "stream",
     "text": [
      "[Synset('evaluation.n.02'), Synset('evaluation.n.01'), Synset('rating.n.03'), Synset('military_rank.n.01'), Synset('rate.v.01'), Synset('rate.v.02'), Synset('rate.v.03'), Synset('rat.v.01'), Synset('rat.v.02'), Synset('fink.v.01'), Synset('rat.v.04'), Synset('rat.v.05'), Synset('denounce.v.04')]\n",
      "13\n"
     ]
    }
   ],
   "source": [
    "# A synset is a concept associated with a set of synonyms\n",
    "ratingSenses = wordnet.synsets('rating')\n",
    "print(ratingSenses)\n",
    "print(len(ratingSenses))"
   ]
  },
  {
   "cell_type": "markdown",
   "metadata": {},
   "source": [
    "This shows that there are 13 senses of rating, 4 nouns and 9 verbs.  The word displayed is the most representative word for each sense.  \n",
    "\n",
    "You can try other words.  I recommend that you also perform the same search [online](http://wordnetweb.princeton.edu/perl/webwn) to better understand the results."
   ]
  },
  {
   "cell_type": "markdown",
   "metadata": {},
   "source": [
    "Let's look at the basic information in each synset.        "
   ]
  },
  {
   "cell_type": "code",
   "execution_count": 20,
   "metadata": {},
   "outputs": [],
   "source": [
    "# We define a function to print the basic information\n",
    "def printBasicSynsetInfo(d):\n",
    "    print(\"SynLemmas\")\n",
    "    print(d.lemmas())\n",
    "    # Print the synonyms\n",
    "    print(\"Synonyms\")\n",
    "    synonyms = [l.name() for l in d.lemmas()]\n",
    "    print(synonyms)\n",
    "    # Print the definition\n",
    "    print(\"Definition\")\n",
    "    print(d.definition())"
   ]
  },
  {
   "cell_type": "code",
   "execution_count": 21,
   "metadata": {},
   "outputs": [
    {
     "name": "stdout",
     "output_type": "stream",
     "text": [
      "[Sense 0]\n",
      "SynLemmas\n",
      "[Lemma('evaluation.n.02.evaluation'), Lemma('evaluation.n.02.valuation'), Lemma('evaluation.n.02.rating')]\n",
      "Synonyms\n",
      "['evaluation', 'valuation', 'rating']\n",
      "Definition\n",
      "an appraisal of the value of something\n",
      "\n",
      "[Sense 1]\n",
      "SynLemmas\n",
      "[Lemma('evaluation.n.01.evaluation'), Lemma('evaluation.n.01.rating')]\n",
      "Synonyms\n",
      "['evaluation', 'rating']\n",
      "Definition\n",
      "act of ascertaining or fixing the value or worth of\n",
      "\n",
      "[Sense 2]\n",
      "SynLemmas\n",
      "[Lemma('rating.n.03.rating')]\n",
      "Synonyms\n",
      "['rating']\n",
      "Definition\n",
      "standing or position on a scale\n",
      "\n",
      "[Sense 3]\n",
      "SynLemmas\n",
      "[Lemma('military_rank.n.01.military_rank'), Lemma('military_rank.n.01.military_rating'), Lemma('military_rank.n.01.paygrade'), Lemma('military_rank.n.01.rating')]\n",
      "Synonyms\n",
      "['military_rank', 'military_rating', 'paygrade', 'rating']\n",
      "Definition\n",
      "rank in a military organization\n",
      "\n",
      "[Sense 4]\n",
      "SynLemmas\n",
      "[Lemma('rate.v.01.rate'), Lemma('rate.v.01.rank'), Lemma('rate.v.01.range'), Lemma('rate.v.01.order'), Lemma('rate.v.01.grade'), Lemma('rate.v.01.place')]\n",
      "Synonyms\n",
      "['rate', 'rank', 'range', 'order', 'grade', 'place']\n",
      "Definition\n",
      "assign a rank or rating to\n",
      "\n",
      "[Sense 5]\n",
      "SynLemmas\n",
      "[Lemma('rate.v.02.rate')]\n",
      "Synonyms\n",
      "['rate']\n",
      "Definition\n",
      "be worthy of or have a certain rating\n",
      "\n",
      "[Sense 6]\n",
      "SynLemmas\n",
      "[Lemma('rate.v.03.rate'), Lemma('rate.v.03.value')]\n",
      "Synonyms\n",
      "['rate', 'value']\n",
      "Definition\n",
      "estimate the value of\n",
      "\n",
      "[Sense 7]\n",
      "SynLemmas\n",
      "[Lemma('rat.v.01.rat')]\n",
      "Synonyms\n",
      "['rat']\n",
      "Definition\n",
      "desert one's party or group of friends, for example, for one's personal advantage\n",
      "\n",
      "[Sense 8]\n",
      "SynLemmas\n",
      "[Lemma('rat.v.02.rat')]\n",
      "Synonyms\n",
      "['rat']\n",
      "Definition\n",
      "employ scabs or strike breakers in\n",
      "\n",
      "[Sense 9]\n",
      "SynLemmas\n",
      "[Lemma('fink.v.01.fink'), Lemma('fink.v.01.scab'), Lemma('fink.v.01.rat'), Lemma('fink.v.01.blackleg')]\n",
      "Synonyms\n",
      "['fink', 'scab', 'rat', 'blackleg']\n",
      "Definition\n",
      "take the place of work of someone on strike\n",
      "\n",
      "[Sense 10]\n",
      "SynLemmas\n",
      "[Lemma('rat.v.04.rat')]\n",
      "Synonyms\n",
      "['rat']\n",
      "Definition\n",
      "give (hair) the appearance of being fuller by using a rat\n",
      "\n",
      "[Sense 11]\n",
      "SynLemmas\n",
      "[Lemma('rat.v.05.rat')]\n",
      "Synonyms\n",
      "['rat']\n",
      "Definition\n",
      "catch rats, especially with dogs\n",
      "\n",
      "[Sense 12]\n",
      "SynLemmas\n",
      "[Lemma('denounce.v.04.denounce'), Lemma('denounce.v.04.tell_on'), Lemma('denounce.v.04.betray'), Lemma('denounce.v.04.give_away'), Lemma('denounce.v.04.rat'), Lemma('denounce.v.04.grass'), Lemma('denounce.v.04.shit'), Lemma('denounce.v.04.shop'), Lemma('denounce.v.04.snitch'), Lemma('denounce.v.04.stag')]\n",
      "Synonyms\n",
      "['denounce', 'tell_on', 'betray', 'give_away', 'rat', 'grass', 'shit', 'shop', 'snitch', 'stag']\n",
      "Definition\n",
      "give away information about somebody\n",
      "\n"
     ]
    }
   ],
   "source": [
    "# We can print the information for each sense of \"rating\"\n",
    "for i in range(len(ratingSenses)):\n",
    "    print(\"[Sense \" + str(i) + \"]\")\n",
    "    printBasicSynsetInfo(ratingSenses[i])\n",
    "    print()"
   ]
  },
  {
   "cell_type": "markdown",
   "metadata": {},
   "source": [
    "A rich taxonomy has been manually developed in Wordnet, making it a rich resource.  "
   ]
  },
  {
   "cell_type": "code",
   "execution_count": 29,
   "metadata": {},
   "outputs": [],
   "source": [
    "# We define a function to print the basic information, receives a synset\n",
    "def printTaxonomyInfo(d):\n",
    "    # Print the synonmyms\n",
    "    synonyms = [l.name() for l in d.lemmas()]\n",
    "    print(\"Synonyms:\")\n",
    "    print(synonyms)\n",
    "    # Print the hypernyms\n",
    "    print(\"Hypernyms:\")\n",
    "    print(d.hypernyms())\n",
    "    # Print the hyponyms *** We will use these later so note how we get the hyponyms ***\n",
    "    print(\"Hyponyms:\")\n",
    "    print(d.hyponyms())"
   ]
  },
  {
   "cell_type": "markdown",
   "metadata": {},
   "source": [
    "**(TO DO) Q4 - 2 marks**   \n",
    "Choose two words and write code to print the taxonomic information for all senses of those words using printTaxonomyInfo()."
   ]
  },
  {
   "cell_type": "code",
   "execution_count": 45,
   "metadata": {},
   "outputs": [
    {
     "name": "stdout",
     "output_type": "stream",
     "text": [
      "Word 1: dog\n",
      "[Sense 0]\n",
      "Synonyms:\n",
      "['dog', 'domestic_dog', 'Canis_familiaris']\n",
      "Hypernyms:\n",
      "[Synset('canine.n.02'), Synset('domestic_animal.n.01')]\n",
      "Hyponyms:\n",
      "[Synset('basenji.n.01'), Synset('corgi.n.01'), Synset('cur.n.01'), Synset('dalmatian.n.02'), Synset('great_pyrenees.n.01'), Synset('griffon.n.02'), Synset('hunting_dog.n.01'), Synset('lapdog.n.01'), Synset('leonberg.n.01'), Synset('mexican_hairless.n.01'), Synset('newfoundland.n.01'), Synset('pooch.n.01'), Synset('poodle.n.01'), Synset('pug.n.01'), Synset('puppy.n.01'), Synset('spitz.n.01'), Synset('toy_dog.n.01'), Synset('working_dog.n.01')]\n",
      "\n",
      "[Sense 1]\n",
      "Synonyms:\n",
      "['frump', 'dog']\n",
      "Hypernyms:\n",
      "[Synset('unpleasant_woman.n.01')]\n",
      "Hyponyms:\n",
      "[]\n",
      "\n",
      "[Sense 2]\n",
      "Synonyms:\n",
      "['dog']\n",
      "Hypernyms:\n",
      "[Synset('chap.n.01')]\n",
      "Hyponyms:\n",
      "[]\n",
      "\n",
      "[Sense 3]\n",
      "Synonyms:\n",
      "['cad', 'bounder', 'blackguard', 'dog', 'hound', 'heel']\n",
      "Hypernyms:\n",
      "[Synset('villain.n.01')]\n",
      "Hyponyms:\n",
      "[Synset('perisher.n.01')]\n",
      "\n",
      "[Sense 4]\n",
      "Synonyms:\n",
      "['frank', 'frankfurter', 'hotdog', 'hot_dog', 'dog', 'wiener', 'wienerwurst', 'weenie']\n",
      "Hypernyms:\n",
      "[Synset('sausage.n.01')]\n",
      "Hyponyms:\n",
      "[Synset('vienna_sausage.n.01')]\n",
      "\n",
      "[Sense 5]\n",
      "Synonyms:\n",
      "['pawl', 'detent', 'click', 'dog']\n",
      "Hypernyms:\n",
      "[Synset('catch.n.06')]\n",
      "Hyponyms:\n",
      "[]\n",
      "\n",
      "[Sense 6]\n",
      "Synonyms:\n",
      "['andiron', 'firedog', 'dog', 'dog-iron']\n",
      "Hypernyms:\n",
      "[Synset('support.n.10')]\n",
      "Hyponyms:\n",
      "[]\n",
      "\n",
      "[Sense 7]\n",
      "Synonyms:\n",
      "['chase', 'chase_after', 'trail', 'tail', 'tag', 'give_chase', 'dog', 'go_after', 'track']\n",
      "Hypernyms:\n",
      "[Synset('pursue.v.02')]\n",
      "Hyponyms:\n",
      "[Synset('hound.v.01'), Synset('quest.v.02'), Synset('run_down.v.07'), Synset('tree.v.03')]\n",
      "\n",
      "Word 2: peanut\n",
      "[Sense 0]\n",
      "Synonyms:\n",
      "['peanut']\n",
      "Hypernyms:\n",
      "[Synset('pod.n.02')]\n",
      "Hyponyms:\n",
      "[]\n",
      "\n",
      "[Sense 1]\n",
      "Synonyms:\n",
      "['peanut', 'peanut_vine', 'Arachis_hypogaea']\n",
      "Hypernyms:\n",
      "[Synset('legume.n.01')]\n",
      "Hyponyms:\n",
      "[]\n",
      "\n",
      "[Sense 2]\n",
      "Synonyms:\n",
      "['peanut']\n",
      "Hypernyms:\n",
      "[Synset('child.n.01')]\n",
      "Hyponyms:\n",
      "[]\n",
      "\n",
      "[Sense 3]\n",
      "Synonyms:\n",
      "['peanut', 'earthnut', 'goober', 'goober_pea', 'groundnut', 'monkey_nut']\n",
      "Hypernyms:\n",
      "[Synset('edible_nut.n.01')]\n",
      "Hyponyms:\n",
      "[]\n",
      "\n",
      "[Sense 4]\n",
      "Synonyms:\n",
      "['insignificant', 'peanut']\n",
      "Hypernyms:\n",
      "[]\n",
      "Hyponyms:\n",
      "[]\n",
      "\n"
     ]
    }
   ],
   "source": [
    "# TO DO - Choose two words and print the taxonomix information for all \n",
    "# senses of those words using printTaxonomyInfo\n",
    "\n",
    "# Word 1\n",
    "dogSenses = wordnet.synsets('dog')\n",
    "print('Word 1: dog')\n",
    "for i in range(len(dogSenses)):\n",
    "    print(\"[Sense \" + str(i) + \"]\")\n",
    "    printTaxonomyInfo(dogSenses[i])\n",
    "    print()\n",
    "# Word 2\n",
    "print('Word 2: peanut')\n",
    "peanutSenses = wordnet.synsets('peanut')\n",
    "for i in range(len(peanutSenses)):\n",
    "    print(\"[Sense \" + str(i) + \"]\")\n",
    "    printTaxonomyInfo(peanutSenses[i])\n",
    "    print()"
   ]
  },
  {
   "cell_type": "markdown",
   "metadata": {},
   "source": [
    "Now to show how to get the names from each hyponym by using our example *ratingSenses*."
   ]
  },
  {
   "cell_type": "code",
   "execution_count": 47,
   "metadata": {},
   "outputs": [
    {
     "name": "stdout",
     "output_type": "stream",
     "text": [
      "[Sense 0]\n",
      "bond_rating\n",
      "mark\n",
      "overvaluation\n",
      "pricing\n",
      "reevaluation\n",
      "undervaluation\n",
      "\n",
      "[Sense 1]\n",
      "marking\n",
      "\n",
      "[Sense 2]\n",
      "\n",
      "[Sense 3]\n",
      "flag_rank\n",
      "\n",
      "[Sense 4]\n",
      "downgrade\n",
      "prioritize\n",
      "reorder\n",
      "seed\n",
      "sequence\n",
      "shortlist\n",
      "subordinate\n",
      "superordinate\n",
      "upgrade\n",
      "\n",
      "[Sense 5]\n",
      "\n",
      "[Sense 6]\n",
      "revalue\n",
      "\n",
      "[Sense 7]\n",
      "\n",
      "[Sense 8]\n",
      "\n",
      "[Sense 9]\n",
      "\n",
      "[Sense 10]\n",
      "\n",
      "[Sense 11]\n",
      "\n",
      "[Sense 12]\n",
      "sell_out\n",
      "\n"
     ]
    }
   ],
   "source": [
    "for i in range(len(ratingSenses)):\n",
    "    print(\"[Sense \" +  str(i) + \"]\")\n",
    "    for hyponym in ratingSenses[i].hyponyms():\n",
    "        # Access the hyponym names with: hyponym.name().split(\".\")[0]\n",
    "        print(hyponym.name().split(\".\")[0])\n",
    "    print()"
   ]
  },
  {
   "cell_type": "markdown",
   "metadata": {},
   "source": [
    "**5. Using Wordnet for NER**   \n",
    "Having explored Wordnet, we will use what we have learned to try another method of NER tagging. Specifically, we will be trying to tag any words labelled *Dish* by using the edit distance and the edit distance thresholding technique that we used in section 3 with the *hyponyms* for the word *dish*.   \n",
    "  \n",
    "Since we have covered everything needed to answer this question in this notebook, you will be doing most of the coding yourself. "
   ]
  },
  {
   "cell_type": "markdown",
   "metadata": {},
   "source": [
    "**(TO DO) Q5 - 5 marks**   \n",
    "1) Go through the senses for the word '*dish*' (recall how we used the functions printBasicSynsetInfo() and wordnet.synsets() above). Looking through the senses, select the single most appropriate sense of the word *dish* for our problem (Restaurant Corpus, look into the corpus or file if you need more context on which words are labelled *Dish*). Collect a list of all *hyponyms* for the word '*dish*' based on the selected sense of the word. You can think of this as a Gazetteer.    \n",
    "2) Using thresholds 0, 1, and 2 with ner_ed, collect three  lists of words that we would tag as *Dish* based on the *Edit Distance* between our Dish Gazetteer and test_sentences. Print the returned lists.     \n",
    "3) Are more dishes being found with a larger threshold? Give an example to justify your answer.    \n",
    "4) Using thresholds 25% and 50% with ner_ed_rel, collect two lists of words that we would tag as *Dish* based on the *Edit Distance* between our Dish Gazetteer and test_sentences. Print the returned lists.    \n",
    "5) Does relative thresholding better capture variations than not using a relative thresholding for the tag *Dish*? Give an example to justify your answer."
   ]
  },
  {
   "cell_type": "code",
   "execution_count": 63,
   "metadata": {},
   "outputs": [
    {
     "name": "stdout",
     "output_type": "stream",
     "text": [
      "[Sense 0]\n",
      "SynLemmas\n",
      "[Lemma('dish.n.01.dish')]\n",
      "Synonyms\n",
      "['dish']\n",
      "Definition\n",
      "a piece of dishware normally used as a container for holding or serving food\n",
      "\n",
      "[Sense 1]\n",
      "SynLemmas\n",
      "[Lemma('dish.n.02.dish')]\n",
      "Synonyms\n",
      "['dish']\n",
      "Definition\n",
      "a particular item of prepared food\n",
      "\n",
      "[Sense 2]\n",
      "SynLemmas\n",
      "[Lemma('dish.n.03.dish'), Lemma('dish.n.03.dishful')]\n",
      "Synonyms\n",
      "['dish', 'dishful']\n",
      "Definition\n",
      "the quantity that a dish will hold\n",
      "\n",
      "[Sense 3]\n",
      "SynLemmas\n",
      "[Lemma('smasher.n.02.smasher'), Lemma('smasher.n.02.stunner'), Lemma('smasher.n.02.knockout'), Lemma('smasher.n.02.beauty'), Lemma('smasher.n.02.ravisher'), Lemma('smasher.n.02.sweetheart'), Lemma('smasher.n.02.peach'), Lemma('smasher.n.02.lulu'), Lemma('smasher.n.02.looker'), Lemma('smasher.n.02.mantrap'), Lemma('smasher.n.02.dish')]\n",
      "Synonyms\n",
      "['smasher', 'stunner', 'knockout', 'beauty', 'ravisher', 'sweetheart', 'peach', 'lulu', 'looker', 'mantrap', 'dish']\n",
      "Definition\n",
      "a very attractive or seductive looking woman\n",
      "\n",
      "[Sense 4]\n",
      "SynLemmas\n",
      "[Lemma('dish.n.05.dish'), Lemma('dish.n.05.dish_aerial'), Lemma('dish.n.05.dish_antenna'), Lemma('dish.n.05.saucer')]\n",
      "Synonyms\n",
      "['dish', 'dish_aerial', 'dish_antenna', 'saucer']\n",
      "Definition\n",
      "directional antenna consisting of a parabolic reflector for microwave or radio frequency radiation\n",
      "\n",
      "[Sense 5]\n",
      "SynLemmas\n",
      "[Lemma('cup_of_tea.n.01.cup_of_tea'), Lemma('cup_of_tea.n.01.bag'), Lemma('cup_of_tea.n.01.dish')]\n",
      "Synonyms\n",
      "['cup_of_tea', 'bag', 'dish']\n",
      "Definition\n",
      "an activity that you like or at which you are superior\n",
      "\n",
      "[Sense 6]\n",
      "SynLemmas\n",
      "[Lemma('serve.v.06.serve'), Lemma('serve.v.06.serve_up'), Lemma('serve.v.06.dish_out'), Lemma('serve.v.06.dish_up'), Lemma('serve.v.06.dish')]\n",
      "Synonyms\n",
      "['serve', 'serve_up', 'dish_out', 'dish_up', 'dish']\n",
      "Definition\n",
      "provide (usually but not necessarily food)\n",
      "\n",
      "[Sense 7]\n",
      "SynLemmas\n",
      "[Lemma('dish.v.02.dish')]\n",
      "Synonyms\n",
      "['dish']\n",
      "Definition\n",
      "make concave; shape like a dish\n",
      "\n",
      "The sense chosen is: Sense 1.\n",
      "['adobo', 'applesauce', 'bacon_and_eggs', 'barbecue', 'barbecued_spareribs', 'barbecued_wing', 'beef_bourguignonne', 'beef_stroganoff', 'beef_wellington', 'biryani', 'bitok', 'boiled_dinner', 'boiled_egg', 'boston_baked_beans', 'bubble_and_squeak', 'buffalo_wing', 'burrito', 'carbonnade_flamande', 'casserole', 'chicken_and_rice', 'chicken_cordon_bleu', 'chicken_kiev', 'chicken_marengo', 'chicken_paprika', 'chicken_provencale', 'chili', 'chop_suey', 'chow_mein', 'coq_au_vin', 'coquille', 'coquilles_saint-jacques', 'cottage_pie', 'couscous', 'croquette', 'curry', 'custard', 'deviled_egg', 'dolmas', 'egg_roll', 'eggs_benedict', 'enchilada', 'escalope_de_veau_orloff', 'falafel', 'fish_and_chips', 'fish_stick', 'fondue', 'fondue', 'french_toast', 'fried_egg', 'fried_rice', 'frittata', 'frog_legs', 'galantine', 'gefilte_fish', 'haggis', 'ham_and_eggs', 'hash', 'jambalaya', 'kabob', 'kedgeree', 'kishke', 'lobster_thermidor', 'lutefisk', 'macedoine', 'maryland_chicken', 'meat_loaf', 'meatball', 'mold', 'moo_goo_gai_pan', 'moussaka', 'mousse', 'omelet', 'osso_buco', 'paella', 'pasta', 'patty', 'pepper_steak', 'pheasant_under_glass', 'piece_de_resistance', 'pilaf', 'pizza', 'poached_egg', 'poi', 'pork_and_beans', 'porridge', 'potpie', 'pudding', 'ramekin', 'refried_beans', 'rijsttaffel', 'risotto', 'rissole', 'roulade', 'salad', 'salisbury_steak', 'sandwich_plate', 'sashimi', 'sauerbraten', 'sauerkraut', 'saute', 'scallopine', 'scampi', 'schnitzel', 'scotch_egg', 'scotch_woodcock', 'scrambled_eggs', 'scrapple', 'seafood_newburg', 'shirred_egg', 'side_dish', 'snack_food', 'souffle', 'soup', 'spaghetti_and_meatballs', 'spanish_rice', 'special', 'steak_au_poivre', 'steak_tartare', 'stew', 'stuffed_cabbage', 'stuffed_peppers', 'stuffed_tomato', 'stuffed_tomato', 'succotash', 'sukiyaki', 'sushi', 'swiss_steak', 'taco', 'tamale', 'tamale_pie', 'tempura', 'teriyaki', 'terrine', 'tetrazzini', 'timbale', 'tostada', 'turnover', 'veal_cordon_bleu', 'veal_parmesan', 'viand', 'welsh_rarebit']\n"
     ]
    }
   ],
   "source": [
    "# TO DO (1)\n",
    "# Look through the senses of the word dish to select the most appropriate sense for our corpus\n",
    "# Recall how we used the printBasicSynsetInfo() function above\n",
    "dishSenses = wordnet.synsets('dish')\n",
    "for i in range(len(dishSenses)):\n",
    "    print(\"[Sense \" + str(i) + \"]\")\n",
    "    printBasicSynsetInfo(dishSenses[i])\n",
    "    print()\n",
    "\n",
    "# Print which sense you have selected (ex: Sense X)\n",
    "print('The sense chosen is: Sense 1.')\n",
    "\n",
    "# Collect a list of all hyponyms for the word 'dish' only from the selected sense\n",
    "dishHyponyms = []\n",
    "for hyponym in dishSenses[1].hyponyms():\n",
    "    dishHyponyms.append(hyponym.name().split(\".\")[0])\n",
    "dishHyponyms.sort()\n",
    "\n",
    "# Print the Dish Gazetteer\n",
    "print(dishHyponyms)"
   ]
  },
  {
   "cell_type": "code",
   "execution_count": 64,
   "metadata": {},
   "outputs": [
    {
     "name": "stdout",
     "output_type": "stream",
     "text": [
      "Distance 0\n",
      "['barbecue/barbecue', 'burrito/burrito', 'pizza/pizza', 'sushi/sushi', 'taco/taco']\n",
      "Distance 1\n",
      "['barbecue/barbecue', 'burrito/burrito', 'pizza/pizza', 'soul/soup', 'sushi/sushi', 'taco/taco']\n",
      "Distance 2\n",
      "['and/viand', 'barbecue/barbecue', 'burrito/burrito', 'fast/hash', 'food/mold', 'house/mousse', 'pho/poi', 'pizza/pizza', 'pub/poi', 'sea/stew', 'soul/soup', 'stand/viand', 'steak/stew', 'sub/soup', 'sushi/sushi', 'taco/taco']\n"
     ]
    }
   ],
   "source": [
    "# TO DO (2)\n",
    "# Using thresholds 0, 1, and 2 with ner_ed, collect three lists of words that we\n",
    "# would tag as *Dish* based on the *Edit Distance* between our Dish Gazetteer and test_sentences. \n",
    "\n",
    "# Threshold = 0\n",
    "dish_gz_ed_th0_words = ner_ed(test_sentences, dishHyponyms, threshold=0)\n",
    "# Threshold = 1\n",
    "dish_gz_ed_th1_words = ner_ed(test_sentences, dishHyponyms, threshold=1)\n",
    "# Threshold = 2\n",
    "dish_gz_ed_th2_words = ner_ed(test_sentences, dishHyponyms, threshold=2)\n",
    "\n",
    "#Print the returned lists. \n",
    "print(\"Distance 0\")\n",
    "print(dish_gz_ed_th0_words)\n",
    "print(\"Distance 1\")\n",
    "print(dish_gz_ed_th1_words)\n",
    "print(\"Distance 2\")\n",
    "print(dish_gz_ed_th2_words)"
   ]
  },
  {
   "cell_type": "markdown",
   "metadata": {},
   "source": [
    "Q5 - TO DO (3)   \n",
    "Are more dishes being found with a larger threshold? Give an example to justify your answer.  \n",
    "\n",
    "Yes. The following table presents the amount of dishes found with respect to the threshold distance:\n",
    "\n",
    "Threshold Distance 0: 5 dishes found.\n",
    "Threshold Distance 1: 6 dishes found.\n",
    "Threshold Distance 1: 16 dishes found.\n",
    "\n",
    "As seen from above, as the threshold increases, the amount of dishes being found also increases.\n"
   ]
  },
  {
   "cell_type": "code",
   "execution_count": 65,
   "metadata": {},
   "outputs": [
    {
     "name": "stdout",
     "output_type": "stream",
     "text": [
      "Distance with 25% Threshold\n",
      "['barbecue/barbecue', 'burrito/burrito', 'pizza/pizza', 'soul/soup', 'sushi/sushi', 'taco/taco']\n",
      "Distance with 50% Threshold\n",
      "['and/viand', 'barbecue/barbecue', 'burger/turnover', 'burmese/barbecue', 'burrito/burrito', 'chicken/chicken_kiev', 'coffee/souffle', 'donut/fondue', 'fast/hash', 'food/fondue', 'french/french_toast', 'grill/egg_roll', 'house/mousse', 'latin/galantine', 'meat/meatball', 'meats/meatball', 'pizza/pizza', 'sandwich/sandwich_plate', 'sea/stew', 'seafood/snack_food', 'soul/souffle', 'spanish/spanish_rice', 'stand/custard', 'steak/stew', 'sub/soup', 'sushi/sashimi', 'taco/taco', 'waffle/souffle']\n"
     ]
    }
   ],
   "source": [
    "# TO DO (4)\n",
    "# Using thresholds 25% and 50% with ner_ed_rel, collect two lists of words that we would tag \n",
    "# as *Dish* based on the *Edit Distance* between our Dish Gazetteer and test_sentences.     \n",
    "dish_gz_ed_th0_25_words = ner_ed_rel(test_sentences, dishHyponyms, threshold=0.25)\n",
    "dish_gz_ed_th0_50_words = ner_ed_rel(test_sentences, dishHyponyms, threshold=0.50)\n",
    "\n",
    "# Print the returned lists.\n",
    "print(\"Distance with 25% Threshold\")\n",
    "print(dish_gz_ed_th0_25_words)\n",
    "print(\"Distance with 50% Threshold\")\n",
    "print(dish_gz_ed_th0_50_words)"
   ]
  },
  {
   "cell_type": "markdown",
   "metadata": {},
   "source": [
    "Q5 - TO DO (5)    \n",
    "Does relative thresholding better capture variations than not using a relative thresholding for the tag *Dish*? Give an example to justify your answer.     \n",
    "\n",
    "When using a relative distance threshold of 25%, the results obtained were the same as a threshold distance of 1. However, when using a relative distance threshold of 50%, the results produced 28 variations. This is 12 more than when the threshold distance is 2. \n",
    "It can be seen that with a relatively low relative distance threshold (e.g. 25%), the variations captured are similar to when using a relatively low threshold distance (e.g. distance of 1). However, when using a relatively high relative distance threshold (e.g. 50%), the variations captured increases in comparison to a relatively high threshold distance (e.g. distance of 2). \n",
    "Therefore, we can conclude that relative thresholding does not better capture variations when using a high relative threshold but can better capture variations when using a low relative threshold."
   ]
  },
  {
   "cell_type": "markdown",
   "metadata": {},
   "source": [
    "**This is the last notebook, hope you enjoyed them and learned some new things :) Best of luck with your projects!**"
   ]
  },
  {
   "cell_type": "markdown",
   "metadata": {},
   "source": [
    "#### Signature\n",
    "\n",
    "I, Kenny Nguyen, declare that the answers provided in this notebook are my own."
   ]
  },
  {
   "cell_type": "code",
   "execution_count": null,
   "metadata": {},
   "outputs": [],
   "source": []
  }
 ],
 "metadata": {
  "kernelspec": {
   "display_name": "Python 3",
   "language": "python",
   "name": "python3"
  },
  "language_info": {
   "codemirror_mode": {
    "name": "ipython",
    "version": 3
   },
   "file_extension": ".py",
   "mimetype": "text/x-python",
   "name": "python",
   "nbconvert_exporter": "python",
   "pygments_lexer": "ipython3",
   "version": "3.7.4"
  }
 },
 "nbformat": 4,
 "nbformat_minor": 2
}

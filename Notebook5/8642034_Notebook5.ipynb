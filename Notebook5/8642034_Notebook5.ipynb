{
 "cells": [
  {
   "cell_type": "markdown",
   "metadata": {},
   "source": [
    "# Notebook 5 - Natural Language Processing\n",
    "#### Exploring the NLP pipeline in NLTK"
   ]
  },
  {
   "cell_type": "markdown",
   "metadata": {},
   "source": [
    "CSI4106 Artificial Intelligence  \n",
    "Fall 2019  \n",
    "Prepared by Caroline Barrière and Julian Templeton"
   ]
  },
  {
   "cell_type": "markdown",
   "metadata": {},
   "source": [
    "***INTRODUCTION***:  \n",
    "\n",
    "This notebook is split in two parts.  In **Part A**, you will explore the different steps of the NLP pipeline, and in **Part B**, you will revisit some of the Machine Learning algorithms used in prior notebooks to perform Polarity Detection on Rotten Tomatoe reviews with NLP techniques used on the reviews.  We will work with the package *nltk* which is very useful for NLP analysis.  You will need to install it before you start.  Information about NLTK are here: http://www.nltk.org/."
   ]
  },
  {
   "cell_type": "markdown",
   "metadata": {},
   "source": [
    "***HOMEWORK***:  \n",
    "Go through the notebook by running each cell, one at a time.  \n",
    "Look for **(TO DO)** for the tasks that you need to perform. Do not edit the code outside of the questions which you are asked to answer unless specifically asked. Once you're done, Sign the notebook (at the end of the notebook), and submit it.  \n",
    "\n",
    "*The notebook will be marked on 42.  \n",
    "Each **(TO DO)** has a number of points associated with it.*\n",
    "***"
   ]
  },
  {
   "cell_type": "code",
   "execution_count": 1,
   "metadata": {},
   "outputs": [],
   "source": [
    "# First install nltk library: pip install nltk\n",
    "# Next import nltk into python\n",
    "import nltk \n",
    "# Open the installer to download nltk packages\n",
    "# This will take a moment to open. Just download all to get eevrything that would need.\n",
    "# Once downloaded you can comment this function to avoid calling when running\n",
    "#nltk.download() "
   ]
  },
  {
   "cell_type": "markdown",
   "metadata": {},
   "source": [
    "**PART A - NATURAL LANGUAGE PROCESSING PIPELINE**  \n",
    "  \n",
    "In this part, we will use the modules from *nltk* to perform the different steps of the pipeline.  \n",
    "We first define a small sample text below."
   ]
  },
  {
   "cell_type": "code",
   "execution_count": 2,
   "metadata": {},
   "outputs": [],
   "source": [
    "sampleText = \"Every week we have two A.I. lectures in this course. The course number is CSI4106. \"\\\n",
    "             \"In the course, we do many Jupyter Notebooks. Each notebook covers a different topic such as a SVM \"\\\n",
    "             \"classifier, Simulated Annealing, Depth-First Search, and many more. In class we have looked \"\\\n",
    "             \"at intricate algorithms, such as the ARC-3 algorithm and neural network learning algorithms.\""
   ]
  },
  {
   "cell_type": "markdown",
   "metadata": {},
   "source": [
    "#### Step 1 - Tokenization"
   ]
  },
  {
   "cell_type": "code",
   "execution_count": 3,
   "metadata": {},
   "outputs": [
    {
     "data": {
      "text/plain": [
       "70"
      ]
     },
     "execution_count": 3,
     "metadata": {},
     "output_type": "execute_result"
    }
   ],
   "source": [
    "from nltk import word_tokenize\n",
    "\n",
    "tokens = word_tokenize(sampleText)\n",
    "# number of tokens\n",
    "len(tokens)"
   ]
  },
  {
   "cell_type": "code",
   "execution_count": 4,
   "metadata": {},
   "outputs": [
    {
     "name": "stdout",
     "output_type": "stream",
     "text": [
      "['Every', 'week', 'we', 'have', 'two', 'A.I', '.', 'lectures', 'in', 'this', 'course', '.', 'The', 'course', 'number', 'is', 'CSI4106', '.', 'In', 'the', 'course', ',', 'we', 'do', 'many', 'Jupyter', 'Notebooks', '.', 'Each', 'notebook', 'covers', 'a', 'different', 'topic', 'such', 'as', 'a', 'SVM', 'classifier', ',', 'Simulated', 'Annealing', ',', 'Depth-First', 'Search', ',', 'and', 'many', 'more', '.', 'In', 'class', 'we', 'have', 'looked', 'at', 'intricate', 'algorithms', ',', 'such', 'as', 'the', 'ARC-3', 'algorithm', 'and', 'neural', 'network', 'learning', 'algorithms', '.']\n"
     ]
    }
   ],
   "source": [
    "# Showing the tokens\n",
    "print(tokens)"
   ]
  },
  {
   "cell_type": "markdown",
   "metadata": {},
   "source": [
    "#### Step 2a - Stemming (Porter Stemmer)\n",
    "For a reference to the [algorithm](http://snowballstem.org/algorithms/)."
   ]
  },
  {
   "cell_type": "code",
   "execution_count": 5,
   "metadata": {},
   "outputs": [
    {
     "name": "stdout",
     "output_type": "stream",
     "text": [
      "['everi', 'week', 'we', 'have', 'two', 'a.i', '.', 'lectur', 'in', 'thi', 'cours', '.', 'the', 'cours', 'number', 'is', 'csi4106', '.', 'In', 'the', 'cours', ',', 'we', 'do', 'mani', 'jupyt', 'notebook', '.', 'each', 'notebook', 'cover', 'a', 'differ', 'topic', 'such', 'as', 'a', 'svm', 'classifi', ',', 'simul', 'anneal', ',', 'depth-first', 'search', ',', 'and', 'mani', 'more', '.', 'In', 'class', 'we', 'have', 'look', 'at', 'intric', 'algorithm', ',', 'such', 'as', 'the', 'arc-3', 'algorithm', 'and', 'neural', 'network', 'learn', 'algorithm', '.']\n"
     ]
    }
   ],
   "source": [
    "# nltk contains different stemmers, and we try the Porter Stemmer here\n",
    "from nltk.stem import *\n",
    "from nltk.stem.porter import *\n",
    "\n",
    "stemmer = PorterStemmer()\n",
    "singles = [stemmer.stem(t) for t in tokens]\n",
    "print(singles)"
   ]
  },
  {
   "cell_type": "markdown",
   "metadata": {},
   "source": [
    "#### Step 2b - Lemmatization\n",
    "The lemmatization relies on a resource called Wordnet (https://wordnet.princeton.edu/), in which lemmas are defined."
   ]
  },
  {
   "cell_type": "code",
   "execution_count": 6,
   "metadata": {},
   "outputs": [
    {
     "name": "stderr",
     "output_type": "stream",
     "text": [
      "[nltk_data] Downloading package wordnet to\n",
      "[nltk_data]     C:\\Users\\kenny.KENSURF\\AppData\\Roaming\\nltk_data...\n",
      "[nltk_data]   Package wordnet is already up-to-date!\n"
     ]
    }
   ],
   "source": [
    "# Download the wordnet resource\n",
    "nltk.download('wordnet')\n",
    "from nltk.stem.wordnet import WordNetLemmatizer"
   ]
  },
  {
   "cell_type": "code",
   "execution_count": 7,
   "metadata": {},
   "outputs": [
    {
     "name": "stdout",
     "output_type": "stream",
     "text": [
      "['Every', 'week', 'we', 'have', 'two', 'A.I', '.', 'lecture', 'in', 'this', 'course', '.', 'The', 'course', 'number', 'is', 'CSI4106', '.', 'In', 'the', 'course', ',', 'we', 'do', 'many', 'Jupyter', 'Notebooks', '.', 'Each', 'notebook', 'cover', 'a', 'different', 'topic', 'such', 'a', 'a', 'SVM', 'classifier', ',', 'Simulated', 'Annealing', ',', 'Depth-First', 'Search', ',', 'and', 'many', 'more', '.', 'In', 'class', 'we', 'have', 'looked', 'at', 'intricate', 'algorithm', ',', 'such', 'a', 'the', 'ARC-3', 'algorithm', 'and', 'neural', 'network', 'learning', 'algorithm', '.']\n"
     ]
    }
   ],
   "source": [
    "wnl = nltk.WordNetLemmatizer()\n",
    "lemmas = [wnl.lemmatize(t) for t in tokens]\n",
    "print(lemmas)"
   ]
  },
  {
   "cell_type": "markdown",
   "metadata": {},
   "source": [
    "**(TO DO) Q1 - 2 marks**    \n",
    "Describe in your own words the difference between lemmatization and stemming.  Use examples from above to show the difference."
   ]
  },
  {
   "cell_type": "markdown",
   "metadata": {},
   "source": [
    "Q1 - ANSWER   \n",
    "The difference between lemmatization and stemming is that stemming tries to obtain the root of a word, where you would add affixes such as \"ed\", \"ize\", etc. while lemmatization reduces the word to the root, while also ensuring that the word belongs to the language. The difference can be seen from the above steps. \n",
    "\n",
    "For example, the word \"lectures\" becomes \"lectur\" when stemmed, removing the affix \"es\" as opposed to becoming \"lecture\" when lemmatizing, which only removed the \"s\" to get the root word \"lecture\". \n",
    "\n",
    "Another example is the word \"Simulated\". When stemming the word, we get \"Simul\" however, when we lemmatize the word, we get \"Simulated\"."
   ]
  },
  {
   "cell_type": "markdown",
   "metadata": {},
   "source": [
    "#### Step 3 - Part-Of-Speech tagging  (POS tagging)\n",
    "As we've seen in class, sentence splitting can be learned through a supervised model.  POS tagging can also be learned through a supervised model.  Here, we will use a perceptron model pre-trained in NLTK.  Look here http://www.nltk.org/_modules/nltk/tag/perceptron.html to understand the model.  \n",
    "  \n",
    "The full sest of tags is available [here](https://www.clips.uantwerpen.be/pages/mbsp-tags)"
   ]
  },
  {
   "cell_type": "code",
   "execution_count": 8,
   "metadata": {
    "scrolled": true
   },
   "outputs": [
    {
     "name": "stderr",
     "output_type": "stream",
     "text": [
      "[nltk_data] Downloading package averaged_perceptron_tagger to\n",
      "[nltk_data]     C:\\Users\\kenny.KENSURF\\AppData\\Roaming\\nltk_data...\n",
      "[nltk_data]   Package averaged_perceptron_tagger is already up-to-\n",
      "[nltk_data]       date!\n"
     ]
    },
    {
     "name": "stdout",
     "output_type": "stream",
     "text": [
      "[('Every', 'DT'), ('week', 'NN'), ('we', 'PRP'), ('have', 'VBP'), ('two', 'CD'), ('A.I', 'NNP'), ('.', '.'), ('lectures', 'VBZ'), ('in', 'IN'), ('this', 'DT'), ('course', 'NN'), ('.', '.'), ('The', 'DT'), ('course', 'NN'), ('number', 'NN'), ('is', 'VBZ'), ('CSI4106', 'NNP'), ('.', '.'), ('In', 'IN'), ('the', 'DT'), ('course', 'NN'), (',', ','), ('we', 'PRP'), ('do', 'VBP'), ('many', 'JJ'), ('Jupyter', 'NNP'), ('Notebooks', 'NNP'), ('.', '.'), ('Each', 'DT'), ('notebook', 'NN'), ('covers', 'VBZ'), ('a', 'DT'), ('different', 'JJ'), ('topic', 'NN'), ('such', 'JJ'), ('as', 'IN'), ('a', 'DT'), ('SVM', 'NNP'), ('classifier', 'NN'), (',', ','), ('Simulated', 'NNP'), ('Annealing', 'NNP'), (',', ','), ('Depth-First', 'NNP'), ('Search', 'NNP'), (',', ','), ('and', 'CC'), ('many', 'JJ'), ('more', 'JJR'), ('.', '.'), ('In', 'IN'), ('class', 'NN'), ('we', 'PRP'), ('have', 'VBP'), ('looked', 'VBN'), ('at', 'IN'), ('intricate', 'JJ'), ('algorithms', 'NNS'), (',', ','), ('such', 'JJ'), ('as', 'IN'), ('the', 'DT'), ('ARC-3', 'NNP'), ('algorithm', 'NN'), ('and', 'CC'), ('neural', 'JJ'), ('network', 'NN'), ('learning', 'VBG'), ('algorithms', 'NN'), ('.', '.')]\n"
     ]
    }
   ],
   "source": [
    "# nltk contains a method to obtain the part-of-speech of each token\n",
    "nltk.download('averaged_perceptron_tagger')\n",
    "posTokens = nltk.pos_tag(tokens)\n",
    "print(posTokens)"
   ]
  },
  {
   "cell_type": "code",
   "execution_count": 9,
   "metadata": {},
   "outputs": [
    {
     "name": "stdout",
     "output_type": "stream",
     "text": [
      "('week', 'NN')\n",
      "NN\n"
     ]
    }
   ],
   "source": [
    "# If we just want to see one tag in particular\n",
    "print(posTokens[1])  # It's a tuple\n",
    "print(posTokens[1][1])  # Second part of the tuple is the tag"
   ]
  },
  {
   "cell_type": "markdown",
   "metadata": {},
   "source": [
    "#### Back to Step 2 \n",
    "\n",
    "The lemmatizer we use is based on WordNet (a lexical resource commonly used in NLP) to provide a set of lemmas.  As many words are ambiguous and can be found in sentences as verbs or nouns (remember examples such as *Will's will will be achieved*), the lemmatizer can benefit from knowledge of POS.  Small problem... POS tags in Wordnet are not the same as in Treebank.  Wordnet defines only 4 POS: N (noun), V (verb), J (adjective) and R (adverb). The small method below is to obtain a partial equivalence between the tagsets."
   ]
  },
  {
   "cell_type": "code",
   "execution_count": 10,
   "metadata": {},
   "outputs": [],
   "source": [
    "from nltk.corpus import wordnet\n",
    "\n",
    "# Try to lemmatize, this time knowing the POS\n",
    "# Tagsets are often different... here we map the treebank tagset (default in pos_tag) \n",
    "# to the wordnet tagset \n",
    "# We will learn more about wordnet when we discuss resources in the Knowledge Representation module of this course\n",
    "\n",
    "def get_wordnet_pos(treebank_tag):\n",
    "    if treebank_tag.startswith('J'):\n",
    "        return wordnet.ADJ\n",
    "    elif treebank_tag.startswith('V'):\n",
    "        return wordnet.VERB\n",
    "    elif treebank_tag.startswith('N'):\n",
    "        return wordnet.NOUN\n",
    "    elif treebank_tag.startswith('R'):\n",
    "        return wordnet.ADV\n",
    "    else:\n",
    "        return wordnet.ADV  # just use as default, for ADV the lemmatizer doesn't change anything "
   ]
  },
  {
   "cell_type": "code",
   "execution_count": 11,
   "metadata": {},
   "outputs": [
    {
     "name": "stdout",
     "output_type": "stream",
     "text": [
      "['r', 'n', 'r', 'v', 'r', 'n', 'r', 'v', 'r', 'r', 'n', 'r', 'r', 'n', 'n', 'v', 'n', 'r', 'r', 'r', 'n', 'r', 'r', 'v', 'a', 'n', 'n', 'r', 'r', 'n', 'v', 'r', 'a', 'n', 'a', 'r', 'r', 'n', 'n', 'r', 'n', 'n', 'r', 'n', 'n', 'r', 'r', 'a', 'a', 'r', 'r', 'n', 'r', 'v', 'v', 'r', 'a', 'n', 'r', 'a', 'r', 'r', 'n', 'n', 'r', 'a', 'n', 'v', 'n', 'r']\n"
     ]
    }
   ],
   "source": [
    "# Transform the tags into wordnet tags\n",
    "wordnet_tags = [get_wordnet_pos(p[1]) for p in posTokens]\n",
    "print(wordnet_tags)"
   ]
  },
  {
   "cell_type": "code",
   "execution_count": 12,
   "metadata": {},
   "outputs": [
    {
     "name": "stdout",
     "output_type": "stream",
     "text": [
      "['Every', 'week', 'we', 'have', 'two', 'A.I', '.', 'lecture', 'in', 'this', 'course', '.', 'The', 'course', 'number', 'be', 'CSI4106', '.', 'In', 'the', 'course', ',', 'we', 'do', 'many', 'Jupyter', 'Notebooks', '.', 'Each', 'notebook', 'cover', 'a', 'different', 'topic', 'such', 'as', 'a', 'SVM', 'classifier', ',', 'Simulated', 'Annealing', ',', 'Depth-First', 'Search', ',', 'and', 'many', 'more', '.', 'In', 'class', 'we', 'have', 'look', 'at', 'intricate', 'algorithm', ',', 'such', 'as', 'the', 'ARC-3', 'algorithm', 'and', 'neural', 'network', 'learn', 'algorithm', '.']\n"
     ]
    }
   ],
   "source": [
    "# Now, let's try to lemmatize again, but we tell the lemmatizer what the POS is.\n",
    "posLemmas = [wnl.lemmatize(t, w) for t, w in zip(tokens, wordnet_tags)]\n",
    "print(posLemmas)"
   ]
  },
  {
   "cell_type": "markdown",
   "metadata": {},
   "source": [
    "**(TO DO) Q2 - 1 mark**    \n",
    "Which words are lemmatized differently when provided with the additional knowledge of POS? Look at the variables *lemmas* and *posLemmas* to get this answer."
   ]
  },
  {
   "cell_type": "markdown",
   "metadata": {},
   "source": [
    "Q2 - ANSWER   \n",
    "Format as: <lemmatized_word> -> <POS_lemmatized_word> only for tokens that are different between posLemmas and lemmas.  \n",
    "is -> be (This may be a typo error?)\n",
    "a -> as (shown twice)\n",
    "looked -> look\n",
    "learning -> learn"
   ]
  },
  {
   "cell_type": "markdown",
   "metadata": {},
   "source": [
    "#### Step 4 - Sentence splitting"
   ]
  },
  {
   "cell_type": "code",
   "execution_count": 13,
   "metadata": {},
   "outputs": [
    {
     "name": "stdout",
     "output_type": "stream",
     "text": [
      "['Every week we have two A.I.', 'lectures in this course.', 'The course number is CSI4106.', 'In the course, we do many Jupyter Notebooks.', 'Each notebook covers a different topic such as a SVM classifier, Simulated Annealing, Depth-First Search, and many more.', 'In class we have looked at intricate algorithms, such as the ARC-3 algorithm and neural network learning algorithms.']\n"
     ]
    }
   ],
   "source": [
    "# Sentence splitting can be done before tokenizing and POS tagging if we wish\n",
    "sentences = nltk.sent_tokenize(sampleText)\n",
    "print(sentences)"
   ]
  },
  {
   "cell_type": "markdown",
   "metadata": {},
   "source": [
    "**(TO DO) Q3 - 2 marks**    \n",
    "How many sentences are generated?   \n",
    "Give an explanation for the number of sentences returned from sentence splitting (more, less, the same? Why?)."
   ]
  },
  {
   "cell_type": "markdown",
   "metadata": {},
   "source": [
    "Q3 - ANSWER   \n",
    "How many sentences were generated?   \n",
    "Six sentences were generated.\n",
    "\n",
    "Give an explanation for the number of sentences returned from sentence splitting (more, less, the same? Why?).  \n",
    "here is an additional sentence returned from sentence splitting, which occurs after the period in \"A.I.\". The period after \"I\" was identified as the end of a sentence, causing the sentence to be split into two, resulting in an additional sentence (from 5 sentences to 6)."
   ]
  },
  {
   "cell_type": "markdown",
   "metadata": {},
   "source": [
    "**Putting it all together in a complete example**  \n",
    "Having covered the NLP pipeline, we will now perform these steps on a movie review from the Rotten Tomatoes Polarity Detection dataset that we used in Notebook 3.  \n",
    "  \n",
    "Recall from Notebook 3:   \n",
    "You will need to download the movie review dataset from the following shared Google Drive (or just copy it over from your notebook 3 folder!):\n",
    "https://drive.google.com/file/d/1w1TsJB-gmIkZ28d1j7sf1sqcPmHXw352/view\n",
    "\n",
    "This is a dataset of reviews from Rotten Tomatoes along with the Freshness of the review (Fresh or Rotten). We will be using this dataset throughout the notebook so be sure to place it in the same directory as this notebook. It contains 480000 reviews with half of them being rotten and the other half being fresh."
   ]
  },
  {
   "cell_type": "code",
   "execution_count": 14,
   "metadata": {},
   "outputs": [],
   "source": [
    "# Import pandas and load the dataset\n",
    "import pandas as pd\n",
    "# Import the dataset, need to use the ISO-8859-1 encoding due to some invalid UTF-8 characters\n",
    "df = pd.read_csv(\"rt_reviews.csv\", encoding=\"ISO-8859-1\")"
   ]
  },
  {
   "cell_type": "code",
   "execution_count": 15,
   "metadata": {},
   "outputs": [
    {
     "name": "stdout",
     "output_type": "stream",
     "text": [
      " I can't figure out exactly when the film 10,000 B.C. is set, but it's definitely ancient times. Like before they had cars, guns or tabloid blogs. And definitely before they had cohesive plots or dialogue that made sense.\n"
     ]
    }
   ],
   "source": [
    "# We extract a specific review to be used for the remainder of this subsection\n",
    "pipeline_review = df.iloc[11992][1]\n",
    "print(pipeline_review)"
   ]
  },
  {
   "cell_type": "markdown",
   "metadata": {},
   "source": [
    "**(TO DO) Q4 - 5 marks**    \n",
    "Perform all of the steps that we have worked with so far from the NLP Pipeline on the review pipeline_review. You will need to do all of the following:    \n",
    "1. Tokenization\n",
    "2. Lemmatization and Stemming\n",
    "3. POS Tagging\n",
    "4. POS-based lemmatization\n",
    "5. Sentence Splitting"
   ]
  },
  {
   "cell_type": "code",
   "execution_count": 16,
   "metadata": {},
   "outputs": [
    {
     "name": "stdout",
     "output_type": "stream",
     "text": [
      "[('I', 'PRP'), ('ca', 'MD'), (\"n't\", 'RB'), ('figure', 'VB'), ('out', 'RP'), ('exactly', 'RB'), ('when', 'WRB'), ('the', 'DT'), ('film', 'NN'), ('10,000', 'CD'), ('B.C', 'NNP'), ('.', '.'), ('is', 'VBZ'), ('set', 'VBN'), (',', ','), ('but', 'CC'), ('it', 'PRP'), (\"'s\", 'VBZ'), ('definitely', 'RB'), ('ancient', 'JJ'), ('times', 'NNS'), ('.', '.'), ('Like', 'IN'), ('before', 'IN'), ('they', 'PRP'), ('had', 'VBD'), ('cars', 'NNS'), (',', ','), ('guns', 'NNS'), ('or', 'CC'), ('tabloid', 'JJ'), ('blogs', 'NNS'), ('.', '.'), ('And', 'CC'), ('definitely', 'RB'), ('before', 'IN'), ('they', 'PRP'), ('had', 'VBD'), ('cohesive', 'JJ'), ('plots', 'NNS'), ('or', 'CC'), ('dialogue', 'NN'), ('that', 'IN'), ('made', 'VBD'), ('sense', 'NN'), ('.', '.')]\n",
      "MD\n",
      "46\n",
      "V\n",
      "V\n",
      "V\n",
      "V\n",
      "V\n",
      "V\n",
      "V\n"
     ]
    }
   ],
   "source": [
    "# TODO - Q4\n",
    "\n",
    "# Tokenization\n",
    "pipelineTokens = word_tokenize(pipeline_review)\n",
    "\n",
    "# Lemmatization\n",
    "pipelineLemmas = [wnl.lemmatize(t) for t in pipelineTokens]\n",
    "\n",
    "# Stemming\n",
    "pipelineStems = [stemmer.stem(t) for t in pipelineTokens]\n",
    "\n",
    "# POS Tagging\n",
    "posPipelineTokens = nltk.pos_tag(pipelineTokens)\n",
    "\n",
    "# POS-based lemmatization (Wornet tags then ...)\n",
    "wordnet_tags_pipeline = [get_wordnet_pos(p[1]) for p in posPipelineTokens]\n",
    "posPipelineLemmas = [wnl.lemmatize(t,w) for t, w in zip(pipelineTokens, wordnet_tags_pipeline)]\n",
    "\n",
    "# Sentence Splitting\n",
    "pipelineSentences = nltk.sent_tokenize(pipeline_review)"
   ]
  },
  {
   "attachments": {
    "CSI4106_Notebook5_corenlp.PNG": {
     "image/png": "[encoded data removed]"
    }
   },
   "cell_type": "markdown",
   "metadata": {},
   "source": [
    "#### Step 5 - Parsing\n",
    "The parser in NLTK actually is a wrapper around a java parser (from Stanford NLP).  It's a bit complex to install, so instead, we will use the following online Stanford parse tool to test pipeline_review: http://corenlp.run/   \n",
    "\n",
    "You will need to copy the review from pipeline_review (printed above) into the *Text to annotate* box, select only *parts-of-speech* and *constituency parse* in the *Annotations* box, and click the *Submit* button to generate the output that you will be looking at.  \n",
    "\n",
    "Below is an image exhbiting what was mentioned above (if not visible for some reason, the image is included in the Notebook 5 tab on Brightspace):\n",
    "\n",
    "![CSI4106_Notebook5_corenlp.PNG](attachment:CSI4106_Notebook5_corenlp.PNG)"
   ]
  },
  {
   "cell_type": "markdown",
   "metadata": {},
   "source": [
    "**(TO DO) Q5 - 2 marks**    \n",
    "Submit the input as described above into the corenlp Web-based tool and answer the following questions.\n",
    "1. Part-of-Speech: How many words are tagged as a verb (in this case any tag starting with V)?\n",
    "2. Constituency Parsing: What does this output represent? How many trees are there? What do the leaves of the trees represent?"
   ]
  },
  {
   "cell_type": "markdown",
   "metadata": {},
   "source": [
    "Q5 - ANSWER   \n",
    "\n",
    "1. There are seven words tagged as a verb.\n",
    "2. The output represents the syntactic structure of the review from pipeline_review. There are a total of three separate trees, one for each sentence in the review. The leaves of the trees represent the lexical tokens of the sentences."
   ]
  },
  {
   "cell_type": "markdown",
   "metadata": {},
   "source": [
    "**PART B - Supervised Learning using the NLP Pipeline**  \n",
    "  \n",
    "In this second part, we will be re-visiting the algorithms used in notebooks 3 and 4 to perform polarity detection on the Rotten Tomatoes dataset. However, this time we will be using various NLP techniques to modify the reviews before using them as input for the algorithms.  \n",
    " \n",
    "This section will be structured in the following way:  \n",
    "1. First we will walk through how to manipulate the data that we will be using for training and testing using various NLP techniques. Then, you will be given several NLP tasks to perform on the reviews that we will use for training and testing later.   \n",
    "    1.1. NOTE: The tasks will be clearly defined with an example, but you will need to come up with a way to perform using what you have been shown through examples in this notebook.\n",
    "2. Using the modified train and test sets from (1), you will select two of the models that we have used for Supervised Machine Learning (either Naive Bayes or SVM + either Logistic Regression or MLPClassifier) to perform Polarity Detection. You will compare the test results obtained from the models that you will invoke.\n",
    "    2.1. NOTE: You are free to re-use code from Notebooks 3 and 4 to help with this task if needed"
   ]
  },
  {
   "cell_type": "code",
   "execution_count": 17,
   "metadata": {},
   "outputs": [],
   "source": [
    "# Setup our training and test datasets (same as from notebook 3)\n",
    "import numpy as np\n",
    "from sklearn.model_selection import train_test_split\n",
    "\n",
    "# Randomly select 10000 fresh examples from the dataframe\n",
    "dfFresh = df[df[\"Freshness\"] == \"fresh\"].sample(n=10000, random_state=5)\n",
    "# Randomly select 10000 rotten examples from the dataframe\n",
    "dfRotten = df[df[\"Freshness\"] == \"rotten\"].sample(n=10000, random_state=3)\n",
    "# Combine the results to make a small random subset of reviews to use\n",
    "dfPartial = dfFresh.append(dfRotten)\n",
    "\n",
    "# Split the data such that 90% is used for training and 10% is used for testing (separating the review\n",
    "# from the freshness scores that we will use as the labels)\n",
    "# Recall that we do not use this test set when building the model, only the training set\n",
    "# We use the parameter stratify to split the training and testing data equally to create\n",
    "# a balanced dataset\n",
    "train_reviews, test_reviews, train_tags, test_tags = train_test_split(dfPartial[\"Review\"],\n",
    "                                                                      dfPartial[\"Freshness\"],\n",
    "                                                                      test_size=0.1, \n",
    "                                                                      random_state=10,\n",
    "                                                                      stratify=dfPartial[\"Freshness\"])\n",
    "\n",
    "# Note that we do not convert to numpy arrays here. You can still loop through the contents as normal,\n",
    "# you will just need to use the df.iloc[index] method to get a single review at an index (you will see\n",
    "# that you do not even need to do this for this notebook. Just iterating though the dataframe is all you need!)"
   ]
  },
  {
   "cell_type": "code",
   "execution_count": 18,
   "metadata": {},
   "outputs": [
    {
     "name": "stdout",
     "output_type": "stream",
     "text": [
      "253536     You Again poses an interesting question -- wh...\n",
      "252809     Joe Swanberg's starriest picture is a lovely ...\n",
      "386907     There is very little here to disabuse the gro...\n",
      "222829     A sensitive portrait, but often a wretched on...\n",
      "418760     Nothing really happens besides self-introspec...\n",
      "                                ...                        \n",
      "395461     A two-hour roller-coaster trip, Jurassic Worl...\n",
      "308329     Mr. Noï¿½ï¿½'s juxtaposition of lofty religio...\n",
      "54446      Ira Sachs is a director of uncommon empathy a...\n",
      "40587      Tackling this life with honesty and respect d...\n",
      "43566      It is a film that keeps the facts and scarcel...\n",
      "Name: Review, Length: 18000, dtype: object \n",
      "\n",
      " You Again poses an interesting question -- what if our long-ago bullies were just as psychically scarred by the tormenting as their tormented victims were? -- but that curveball is buried under a lot of gunk.\n"
     ]
    }
   ],
   "source": [
    "# Reminder that the data is a pandas dataframe which you can manipulate easily\n",
    "# You can iterate through it normally and can replace the content at an index\n",
    "# Example of iterating through a dataframe:\n",
    "# for review in train_reviews: \n",
    "#     print(review)\n",
    "# This will loop through the reviews in train_reviews just like a list\n",
    "\n",
    "# Print train_reviews (dataframe of reviews)\n",
    "print(train_reviews, \"\\n\")\n",
    "# Print the first train review\n",
    "print(train_reviews.iloc[0])"
   ]
  },
  {
   "cell_type": "markdown",
   "metadata": {},
   "source": [
    "**1. Manipulating the movie reviews**   \n",
    "The first task will be to give an example on how to modify the movie reviews that we will be using to perform Polarity Detection. Our goal for this step will be to introduce the idea of *stopword removal* and how to perform stopword removal on every movie review that will be used for training and testing."
   ]
  },
  {
   "cell_type": "markdown",
   "metadata": {},
   "source": [
    "***1.1. Performing Stopword Removal***"
   ]
  },
  {
   "cell_type": "markdown",
   "metadata": {},
   "source": [
    "Leading into the idea of stopword removal, let us first exhibit how to edit a review with respect to some task. \n",
    "\n",
    "To do this we will go through an example that removes all non-alphanumeric characters in a review."
   ]
  },
  {
   "cell_type": "code",
   "execution_count": 19,
   "metadata": {},
   "outputs": [
    {
     "name": "stdout",
     "output_type": "stream",
     "text": [
      "Review:  You Again poses an interesting question -- what if our long-ago bullies were just as psychically scarred by the tormenting as their tormented victims were? -- but that curveball is buried under a lot of gunk. \n",
      "\n",
      "Look at our tokenized review:\n",
      "['you', 'again', 'poses', 'an', 'interesting', 'question', '--', 'what', 'if', 'our', 'long-ago', 'bullies', 'were', 'just', 'as', 'psychically', 'scarred', 'by', 'the', 'tormenting', 'as', 'their', 'tormented', 'victims', 'were', '?', '--', 'but', 'that', 'curveball', 'is', 'buried', 'under', 'a', 'lot', 'of', 'gunk', '.'] \n",
      "\n",
      "Look at our alphanumeric tokenized review:\n",
      "['you', 'again', 'poses', 'an', 'interesting', 'question', 'what', 'if', 'our', 'bullies', 'were', 'just', 'as', 'psychically', 'scarred', 'by', 'the', 'tormenting', 'as', 'their', 'tormented', 'victims', 'were', 'but', 'that', 'curveball', 'is', 'buried', 'under', 'a', 'lot', 'of', 'gunk'] \n",
      "\n",
      "Look at our alphanumeric review:\n",
      "you again poses an interesting question what if our bullies were just as psychically scarred by the tormenting as their tormented victims were but that curveball is buried under a lot of gunk\n"
     ]
    }
   ],
   "source": [
    "# Import the Regular expressions library which is used for this example\n",
    "import re\n",
    "\n",
    "# We will use the first review from our training set as an example.\n",
    "ex_review = train_reviews.iloc[0]\n",
    "print(\"Review:\", ex_review, \"\\n\")\n",
    "\n",
    "# We need to tokenize the review first\n",
    "# Recall that we could do this to all reviews in the dataframe by iterating through its\n",
    "# contents the same way as we would a list (for review in dataframe)\n",
    "ex_review_tok = word_tokenize(ex_review.lower())\n",
    "print(\"Look at our tokenized review:\")\n",
    "print(ex_review_tok, \"\\n\")\n",
    "\n",
    "# We then loop through the tokens, keeping only the alphanumeric tokens\n",
    "ex_review_tok_alpha = [t for t in ex_review_tok if re.match(\"^[a-zA-Z]+$\", t)]\n",
    "print(\"Look at our alphanumeric tokenized review:\")\n",
    "print(ex_review_tok_alpha, \"\\n\")\n",
    "\n",
    "# Join the tokens to re-form the sentence\n",
    "ex_review_text = \" \".join(ex_review_tok_alpha)\n",
    "print(\"Look at our alphanumeric review:\")\n",
    "print(ex_review_text)"
   ]
  },
  {
   "cell_type": "markdown",
   "metadata": {},
   "source": [
    "**(TO DO) Q6 - 2 marks**    \n",
    "In the above example we removed any non-alphanumeric tokens from our selected review and re-constructed the review. If we want to build a modified training set based on these re-constructed reviews we would need to perform this operation on every review and either replace the original review or create a new list of the re-constructed reviews.  \n",
    "\n",
    "Now, we want to build a new version of both the train and the test reviews with any non-alphanumeric tokens and any *stopwords* removed. A stopword is a word that is too common to be deemed useful when training or testing a model. In nltk, we will use the stopwords list available as a guide on what to *remove*. \n",
    "\n",
    "Complete the code below to create a new version of train_reviews and test_reviews where all reviews do not contain any non-alphanumeric tokens or stopwords."
   ]
  },
  {
   "cell_type": "code",
   "execution_count": 20,
   "metadata": {},
   "outputs": [
    {
     "name": "stderr",
     "output_type": "stream",
     "text": [
      "[nltk_data] Downloading package stopwords to\n",
      "[nltk_data]     C:\\Users\\kenny.KENSURF\\AppData\\Roaming\\nltk_data...\n",
      "[nltk_data]   Package stopwords is already up-to-date!\n"
     ]
    }
   ],
   "source": [
    "# Q6 - Importing the stopwords and looking at what they are\n",
    "\n",
    "# Download the stopwords package if you do not already have it\n",
    "nltk.download('stopwords')\n",
    "# Import the stopwords\n",
    "from nltk.corpus import stopwords\n",
    "\n",
    "# Can uncomment to view what the stopwords look like\n",
    "#setStopWords = set(stopwords.words('english'))\n",
    "#print(setStopWords)"
   ]
  },
  {
   "cell_type": "code",
   "execution_count": 21,
   "metadata": {},
   "outputs": [],
   "source": [
    "# Q6 - TODO\n",
    "\n",
    "# From a given train or test set, returns a new version of the set (as a numpy array)\n",
    "# with any stopwords or non-alphanumeric characters removed\n",
    "def no_alpnum_no_stopword(reviews):\n",
    "    new_reviews = []\n",
    "    for review in reviews:\n",
    "        # Tokenize\n",
    "        new_review_tok = word_tokenize(review.lower())\n",
    "        # Remove non-alphanumeric characters\n",
    "        new_review_tok_alpha = [t for t in new_review_tok if re.match(\"^[a-zA-Z]+$\", t)]\n",
    "        # Remove stopwords after removing non-alphanumeric characters\n",
    "        new_review_tok_alpha_stopwords = [w for w in new_review_tok_alpha if not w in stopwords.words('english')]\n",
    "        # Re-form the tokens\n",
    "        new_review_text=\"\".join(new_review_tok_alpha)\n",
    "        # Append to new_reviews\n",
    "        new_reviews.append(new_review_text)\n",
    "    return np.array(new_reviews)"
   ]
  },
  {
   "cell_type": "code",
   "execution_count": 22,
   "metadata": {},
   "outputs": [],
   "source": [
    "# This will take a few minutes so be patient!\n",
    "# New version of the train set (just modifying the reviews, not the tags)\n",
    "train_reviews_sw = no_alpnum_no_stopword(train_reviews)\n",
    "# New version of the test set (just modifying the reviews, not the tags)\n",
    "test_reviews_sw = no_alpnum_no_stopword(test_reviews)"
   ]
  },
  {
   "cell_type": "markdown",
   "metadata": {},
   "source": [
    "***1.2. Performing POS Lemmatization***"
   ]
  },
  {
   "cell_type": "markdown",
   "metadata": {},
   "source": [
    "**(TO DO) Q7 - 3 marks**    \n",
    "In the above example we removed any non-alphanumeric tokens and stopwords from train_reviews and test_reviews. You will now need to define the function pos_lemmatize_reviews() below. This function will take as input either *train_reviews* or *test_reviews* and will return the numpy array of the *POS Lemmatized* reviews.\n",
    "\n",
    "Everything needed to perform this task has already been done in this notebook, so you only need to use what we have covered in this notebook to answer the question.\n",
    "\n",
    "Complete the code below to create a new version of train_reviews and test_reviews where all reviews have had POS Lemmatization performed on them."
   ]
  },
  {
   "cell_type": "code",
   "execution_count": 23,
   "metadata": {},
   "outputs": [],
   "source": [
    "# Q7 - TODO\n",
    "\n",
    "# From a given train or test set, returns a new version of the set (as a numpy array)\n",
    "# with reviews that have been POS Lemmatized\n",
    "def pos_lemmatize_reviews(reviews):\n",
    "    new_pos_reviews = []\n",
    "    for review in reviews:\n",
    "        #Tokenization\n",
    "        plr_tokens = word_tokenize(review)\n",
    "        #POS Tagging\n",
    "        plr_pos_tokens = nltk.pos_tag(plr_tokens)\n",
    "        #POS-based Lemmatization\n",
    "        wordnet_tags_plr = [get_wordnet_pos(p[1]) for p in plr_pos_tokens]\n",
    "        plr_pos_lemmas = [wnl.lemmatize(t,w) for t, w in zip(plr_tokens, wordnet_tags_plr)]\n",
    "        # Re-form tokens\n",
    "        new_pos_text = \"\".join(plr_pos_lemmas)\n",
    "        #Append to new POS reviews\n",
    "        new_pos_reviews.append(new_pos_text)\n",
    "    #Numpy Array\n",
    "    return np.array(new_pos_reviews)"
   ]
  },
  {
   "cell_type": "code",
   "execution_count": 24,
   "metadata": {},
   "outputs": [],
   "source": [
    "# New version of the train set (just modifying the reviews, not the tags)\n",
    "train_reviews_lm = pos_lemmatize_reviews(train_reviews)\n",
    "# New version of the test set (just modifying the reviews, not the tags)\n",
    "test_reviews_lm = pos_lemmatize_reviews(test_reviews)"
   ]
  },
  {
   "cell_type": "markdown",
   "metadata": {},
   "source": [
    "***1.3. Verb-only reviews***"
   ]
  },
  {
   "cell_type": "markdown",
   "metadata": {},
   "source": [
    "**(TO DO) Q8 - 3 marks**    \n",
    " You will now need to define the function verb_only_reviews() below. This function will take as input either train_reviews or test_reviews and will return the numpy array of the reviews with each review containing only verbs.\n",
    "\n",
    "Everything needed to perform this task has already been done in this notebook, so you only need to use what we have covered in this notebook to answer the question.\n",
    "\n",
    "Complete the code below to create a new version of train_reviews and test_reviews where all reviews only contain verbs."
   ]
  },
  {
   "cell_type": "code",
   "execution_count": 25,
   "metadata": {},
   "outputs": [],
   "source": [
    "# Q8 - TODO\n",
    "\n",
    "# From a given train or test set, returns a new version of the set (as a numpy array)\n",
    "# with reviews that only contain verbs\n",
    "def verb_only_reviews(reviews):\n",
    "    new_verb_reviews = []\n",
    "    tmp_verb = []\n",
    "    for review in reviews:\n",
    "        #Tokenization\n",
    "        verb_tokens = word_tokenize(review)\n",
    "        #POS Tagging\n",
    "        verb_pos_tokens = nltk.pos_tag(verb_tokens)\n",
    "        \n",
    "        for i in range(len(verb_pos_tokens)):\n",
    "            if(verb_pos_tokens[i][1][0].lower() == \"v\"):\n",
    "                #reforms tokens with POS starting with V (verb).\n",
    "                new_verb_text = \"\".join(verb_pos_tokens[i][0])\n",
    "        #Append to new POS review\n",
    "        new_verb_reviews.append(new_verb_text)\n",
    "        \n",
    "    #Numpy Array\n",
    "    return np.array(new_verb_reviews)"
   ]
  },
  {
   "cell_type": "code",
   "execution_count": 26,
   "metadata": {
    "scrolled": true
   },
   "outputs": [],
   "source": [
    "# New version of the train set (just modifying the reviews, not the tags)\n",
    "train_reviews_vb = verb_only_reviews(train_reviews)\n",
    "# New version of the test set (just modifying the reviews, not the tags)\n",
    "test_reviews_vb = verb_only_reviews(test_reviews)"
   ]
  },
  {
   "cell_type": "markdown",
   "metadata": {},
   "source": [
    "**2. Polarity Detection using augmented train and test sets**   \n",
    "Now that we have three augmented versions of our original train and test sets we will test them out to see how they compare to one another. You will be provided two algorithm choices in each question where you will need to select one of the algorithms and perform polarity detection on the reviews using the chosen algorithm."
   ]
  },
  {
   "cell_type": "markdown",
   "metadata": {},
   "source": [
    "***2.1. Naive Bayes or SVM***    \n",
    "For this subsection you will perform polarity detection on the augmented movie reviews with *either* the Naive Bayes Classifier or the SVM Classifier."
   ]
  },
  {
   "cell_type": "markdown",
   "metadata": {},
   "source": [
    "**(TO DO) Q9 - 9 marks**    \n",
    "For this question you will be selecting *either* the Naive Bayes Classifier (MultinomialNB) used in Notebook 3 or the SVM Classifier used in Notebook 3. You may need to refer to Notebook 3 to help answer this question. Your first task is to select the classifier that you would like to use.   \n",
    "\n",
    "*Note*: You are expected to use only one. If you use only more than one only the first will be marked.\n",
    "\n",
    "For each augmented set of the train and test reviews perform the following:\n",
    "\n",
    "0. Recall that the augmented train and test sets are as followed (you need to perform all of the following with each augmented set):   \n",
    "    0.1. (train_reviews_sw, train_tags), (test_reviews_sw, test_tags)  \n",
    "    0.2. (train_reviews_lm, train_tags), (test_reviews_lm, test_tags)  \n",
    "    0.3. (train_reviews_vb, train_tags), (test_reviews_vb, test_tags)  \n",
    "1. Need to use CountVectorizer() to transform each review set (requires a CountVectorizer() for each set to be fit_tansform() with the train set). The train reviews require .fit_transform() to be used with the CountVectorizer, the test reviews require .transform() to be used with the CountVectorizer.\n",
    "2. Using the parameter setup from Notebook 3, setup and train three different classifiers of your selected classifier type (one for each augmented train/test set). Recall that we train by calling model.fit(train_counts, train_tags) ***Be sure to keep each trained model as a unique variable since you will use them later***\n",
    "3. Using the test sets and the models, test your models by predicting the sentiments from the test set and print the accuracy of the predictions."
   ]
  },
  {
   "cell_type": "code",
   "execution_count": 27,
   "metadata": {},
   "outputs": [],
   "source": [
    "# TO DO Q9 - 1\n",
    "from sklearn.feature_extraction.text import CountVectorizer\n",
    "# Recall that we fit on the training set: ... = count_vect.fit_transform(train_reviews)\n",
    "# Recall that we transform the testing set: ... = count_vect.transform(test_reviews)\n",
    "count_vect_sw = CountVectorizer()\n",
    "train_counts_sw = count_vect_sw.fit_transform(train_reviews_sw)\n",
    "test_counts_sw = count_vect_sw.transform(test_reviews_sw)\n",
    "# Use on both the train and the test sets\n",
    "count_vect_lm = CountVectorizer()\n",
    "train_counts_lm = count_vect_lm.fit_transform(train_reviews_lm)\n",
    "test_counts_lm = count_vect_lm.transform(test_reviews_lm)\n",
    "# Use on both the train and the test sets\n",
    "count_vect_vb = CountVectorizer()\n",
    "train_counts_vb = count_vect_vb.fit_transform(train_reviews_vb)\n",
    "test_counts_vb = count_vect_vb.transform(test_reviews_vb)\n",
    "# Use on both the train and the test sets"
   ]
  },
  {
   "cell_type": "code",
   "execution_count": 28,
   "metadata": {},
   "outputs": [],
   "source": [
    "# TO DO Q9 - 2\n",
    "from sklearn.naive_bayes import MultinomialNB # For Naive Bayes\n",
    "# You will use this model for Naive Bayes Classification\n",
    "# clf_nb = MultinomialNB()\n",
    "\n",
    "from sklearn import svm # For the SVM\n",
    "# You will use this model for SVM Classification\n",
    "# Do not forget to set the random_state to 0\n",
    "# clf_svm = svm.SVC(kernel=\"linear\", random_state=0, max_iter=3500)\n",
    "\n",
    "# Create models of your selected classifier type and train them on each train set.\n",
    "# Recall that we trin by calling model.fit(train_counts, train_tags) (variable names may differ)\n",
    "# ***Do not forget to use the provided structure above for your selected model.\n",
    "\n",
    "clf_nb_sw = MultinomialNB().fit(train_counts_sw, train_tags)\n",
    "clf_nb_lm = MultinomialNB().fit(train_counts_lm, train_tags)\n",
    "clf_nb_vb = MultinomialNB().fit(train_counts_vb, train_tags)"
   ]
  },
  {
   "cell_type": "code",
   "execution_count": 29,
   "metadata": {},
   "outputs": [
    {
     "name": "stdout",
     "output_type": "stream",
     "text": [
      "Non-alphanumeric token removal and stopword removal result:\n",
      "52.1% accuracy.\n",
      "\n",
      "POS Lemmatization result:\n",
      "56.89999999999999% accuracy.\n",
      "\n",
      "Verbs only result:\n",
      "55.50000000000001% accuracy.\n"
     ]
    }
   ],
   "source": [
    "# TO DO Q9 - 3\n",
    "\n",
    "# Test each trained model using the respective test set\n",
    "# Recall that we call ... = model.predict(test_counts) to get the predictions for our test set\n",
    "prediction_sw = clf_nb_sw.predict(test_counts_sw)\n",
    "prediction_lm = clf_nb_lm.predict(test_counts_lm)\n",
    "prediction_vb = clf_nb_vb.predict(test_counts_vb)\n",
    "\n",
    "# Print the test accuracies of each model using the predictions that you have obtained above\n",
    "print(\"Non-alphanumeric token removal and stopword removal result:\")\n",
    "correct_sw = 0\n",
    "for tag, pred in zip(test_tags, prediction_sw):   # zip allows to go through two lists simultaneously\n",
    "    if (tag == pred):\n",
    "        correct_sw += 1\n",
    "print(str(correct_sw/test_tags.size*100)+\"% accuracy.\\n\")\n",
    "\n",
    "correct_lm = 0\n",
    "for tag, pred in zip(test_tags, prediction_lm):   # zip allows to go through two lists simultaneously\n",
    "    if (tag == pred):\n",
    "        correct_lm += 1\n",
    "print(\"POS Lemmatization result:\")\n",
    "print(str(correct_lm/test_tags.size*100)+\"% accuracy.\\n\")\n",
    "\n",
    "correct_vb = 0\n",
    "for tag, pred in zip(test_tags, prediction_vb):   # zip allows to go through two lists simultaneously\n",
    "    if (tag == pred):\n",
    "        correct_vb += 1\n",
    "print(\"Verbs only result:\")\n",
    "print(str(correct_vb/test_tags.size*100)+\"% accuracy.\")"
   ]
  },
  {
   "cell_type": "markdown",
   "metadata": {},
   "source": [
    "**(TO DO) Q10 - 2 marks**    \n",
    "Which NLP technique performed on the reviews gave the best test results above? Why do you think that approach gave the best results?"
   ]
  },
  {
   "cell_type": "markdown",
   "metadata": {},
   "source": [
    "Q10 - ANSWER   \n",
    "POS Lemmatization is the NLP technique that performed the best (highest accuracy). This is because the tokens were modified using the lookups in Wordnet. Alongside this, the lemmatization is more accurate when retrieving the root of words as it \"knows\" the type of speech."
   ]
  },
  {
   "cell_type": "markdown",
   "metadata": {},
   "source": [
    "***2.2. Logistic Regression or MLP***    \n",
    "For this subsection you will perform polarity detection on the augmented movie reviews with *either* the Logistic Regression or a MLP"
   ]
  },
  {
   "cell_type": "markdown",
   "metadata": {},
   "source": [
    "**(TO DO) Q11 - 6 marks**    \n",
    "For this question you will be selecting *either* LogisticRegression as used in Notebook 4 or the MLPClassifier used in Notebook 4. You may need to refer to Notebook 4 to help answer this question. Your first task is to select the classifier that you would like to use (this time the MLP will be faster so do not worry about the computational complexity when choosing). The MLPClassifier will now use smaller hidden layer values, so use the provided structure for all of your models.\n",
    "\n",
    "*Note*: You are expected to use only one. If you use only more than one only the first will be marked.\n",
    "\n",
    "For each augmented set of the train and test reviews perform the following:\n",
    "\n",
    "0. You have already setup the transformed train and test data with the CountVectorizers from Q9. You will be re-using their values to train the model with here (so already complete)\n",
    "1. Setup and train three different classifiers of your selected classifier type (one for each augmented train/test set, for only *one epoch*). Recall that we train these models by calling model.fit(train_counts, train_tags). ***Be sure to keep each trained model as a unique variable since you will use them later***\n",
    "2. Using the test sets and the models, test your models by retrieving the score of the model predicting the test sets after being trained. Print out these scores afterwards. Recall that we get the score by calling ... = model.score(test_counts, test_tags)."
   ]
  },
  {
   "cell_type": "code",
   "execution_count": 30,
   "metadata": {},
   "outputs": [
    {
     "data": {
      "text/plain": [
       "MLPClassifier(activation='relu', alpha=0.0001, batch_size='auto', beta_1=0.9,\n",
       "              beta_2=0.999, early_stopping=False, epsilon=1e-08,\n",
       "              hidden_layer_sizes=(50, 25), learning_rate='constant',\n",
       "              learning_rate_init=0.01, max_iter=100, momentum=0.9,\n",
       "              n_iter_no_change=10, nesterovs_momentum=True, power_t=0.5,\n",
       "              random_state=1, shuffle=True, solver='lbfgs', tol=0.0001,\n",
       "              validation_fraction=0.1, verbose=False, warm_start=True)"
      ]
     },
     "execution_count": 30,
     "metadata": {},
     "output_type": "execute_result"
    }
   ],
   "source": [
    "# TO DO Q11 - 1\n",
    "# Recall that we train for one epoch by calling model.fit(train_counts, train_tags)\n",
    "\n",
    "# For Logistic Regression\n",
    "from sklearn.linear_model import LogisticRegression\n",
    "# What we will use for LogisticRegression\n",
    "# clf_lr = LogisticRegression(solver='lbfgs', multi_class=\"multinomial\", max_iter=1000, random_state=1)\n",
    "\n",
    "# For MLPClassifier\n",
    "from sklearn.neural_network import MLPClassifier\n",
    "# What we will use for the MLPClassifier\n",
    "#clf_mlp = MLPClassifier(solver='lbfgs', alpha=1e-4, hidden_layer_sizes=(50, 25), random_state=1, max_iter=100, learning_rate_init=0.01, warm_start=True)\n",
    "\n",
    "# Create models of your selected classifier type and train them on each train set.\n",
    "# We train the models the same way that we have in notebook 4, except that we only use one epoch\n",
    "# Do not forget to use the provided structure above for your selected model.\n",
    "clf_mlp_sw = MLPClassifier(solver='lbfgs', alpha=1e-4, hidden_layer_sizes=(50, 25), random_state=1, max_iter=100, learning_rate_init=0.01, warm_start=True)\n",
    "clf_mlp_lm = MLPClassifier(solver='lbfgs', alpha=1e-4, hidden_layer_sizes=(50, 25), random_state=1, max_iter=100, learning_rate_init=0.01, warm_start=True)\n",
    "clf_mlp_vb = MLPClassifier(solver='lbfgs', alpha=1e-4, hidden_layer_sizes=(50, 25), random_state=1, max_iter=100, learning_rate_init=0.01, warm_start=True)\n",
    "\n",
    "clf_mlp_sw.fit(train_counts_sw, train_tags)\n",
    "clf_mlp_lm.fit(train_counts_lm, train_tags)\n",
    "clf_mlp_vb.fit(train_counts_vb, train_tags)"
   ]
  },
  {
   "cell_type": "code",
   "execution_count": 31,
   "metadata": {},
   "outputs": [
    {
     "name": "stdout",
     "output_type": "stream",
     "text": [
      "Non-alphanumeric token removal and stopword removal score\n",
      "0.501\n",
      "POS Lemmatization score\n",
      "0.5385\n",
      "Verbs only score\n",
      "0.56\n"
     ]
    }
   ],
   "source": [
    "# TO DO Q11 - 2\n",
    "# Recall that we test the model by getting the score: ... = model.score(test_counts, test_tags)\n",
    "\n",
    "# Test each trained model using the respective test set\n",
    "scoreTest_sw = clf_mlp_sw.score(test_counts_sw, test_tags)\n",
    "scoreTest_lm = clf_mlp_lm.score(test_counts_lm, test_tags)\n",
    "scoreTest_vb = clf_mlp_vb.score(test_counts_vb, test_tags)\n",
    "\n",
    "# Print the test accuracies of each model using the predictions that you have obtained above\n",
    "print(\"Non-alphanumeric token removal and stopword removal score\")\n",
    "print(scoreTest_sw)\n",
    "print(\"POS Lemmatization score\")\n",
    "print(scoreTest_lm)\n",
    "print(\"Verbs only score\")\n",
    "print(scoreTest_vb)"
   ]
  },
  {
   "cell_type": "markdown",
   "metadata": {},
   "source": [
    "**(TO DO) Q12 - 2 marks**    \n",
    "Which NLP technique performed on the reviews gave the best test results above? Why?"
   ]
  },
  {
   "cell_type": "markdown",
   "metadata": {},
   "source": [
    "Q12 - ANSWER   \n",
    "Verbs only. This is because in verb only, the reviews are stripped down to just verbs, where the comparison becomes simplified as only one POS is compared."
   ]
  },
  {
   "cell_type": "markdown",
   "metadata": {},
   "source": [
    "**(TO DO) Q13 - 3 marks**    \n",
    "First, fill out the provided table below by entering the algorithm types that you have selected and by entering the test performance results that you have received on each modified test set. You just need to manually add them.   \n",
    "\n",
    "Did the top performing first model choice (Naive Bayes or SVM) and the top performing second model choice (Logistic Regression or MLP) both use the same NLP technique on the reviews?  \n",
    "\n",
    "What are two other NLP transformations that you can think of that would be worth testing to try and increase performance?"
   ]
  },
  {
   "cell_type": "markdown",
   "metadata": {},
   "source": [
    "Q13 - ANSWER   \n",
    "\n",
    "Fill out the table below (change *result* to the test results and *Algo 1*/*Algo 2* to the selected algorithms (SVM, ...))  \n",
    "\n",
    "| Choice          | test_reviews_sw | test_reviews_lm | test_reviews_vb |\n",
    "|-----------------|-----------------|-----------------|-----------------|\n",
    "| Naive Bayes     | 0.521           | 0.569           | 0.555           |\n",
    "| MLP Classifier  | 0.501           | 0.5385          | 0.56            |     \n",
    "\n",
    "Did the top performing first model choice (Naive Bayes or SVM) and the top performing second model choice (Logistic Regression or MLP) both use the same NLP technique on the reviews?  \n",
    "\n",
    "No, the top performing model for Naive Bayes used POS Lemmatization while the top performing model for MLP Classifier used verbs only.   \n",
    "\n",
    "What are two other NLP transformations that you can think of that would be worth testing to try and increase performance?   \n",
    "\n",
    "Two other NLP transformations that may be worth testing to try and increase performance are entity disabiguation and coreference resolution."
   ]
  },
  {
   "cell_type": "markdown",
   "metadata": {},
   "source": [
    "#### Signature\n",
    "\n",
    "I, Kenny Nguyen, declare that the answers provided in this notebook are my own."
   ]
  },
  {
   "cell_type": "code",
   "execution_count": null,
   "metadata": {},
   "outputs": [],
   "source": []
  }
 ],
 "metadata": {
  "kernelspec": {
   "display_name": "Python 3",
   "language": "python",
   "name": "python3"
  },
  "language_info": {
   "codemirror_mode": {
    "name": "ipython",
    "version": 3
   },
   "file_extension": ".py",
   "mimetype": "text/x-python",
   "name": "python",
   "nbconvert_exporter": "python",
   "pygments_lexer": "ipython3",
   "version": "3.7.4"
  }
 },
 "nbformat": 4,
 "nbformat_minor": 2
}
